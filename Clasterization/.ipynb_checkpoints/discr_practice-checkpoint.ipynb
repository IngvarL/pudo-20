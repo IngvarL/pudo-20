{
 "cells": [
  {
   "cell_type": "code",
   "execution_count": 1,
   "metadata": {
    "id": "-ppToJrUWoJ0"
   },
   "outputs": [],
   "source": [
    "from sklearn.datasets import load_wine\n",
    "import pandas as pd\n",
    "import numpy as np\n",
    "import matplotlib.pyplot as plt\n",
    "from matplotlib import colors"
   ]
  },
  {
   "cell_type": "code",
   "execution_count": 2,
   "metadata": {
    "id": "ik4WLSx51KZY"
   },
   "outputs": [],
   "source": [
    "cmap = colors.LinearSegmentedColormap(\n",
    "    'red_blue_classes',\n",
    "    {'red': [(0, 1, 1), (1, 0.7, 0.7)],\n",
    "     'green': [(0, 0.7, 0.7), (1, 0.7, 0.7)],\n",
    "     'blue': [(0, 0.7, 0.7), (1, 1, 1)]})\n",
    "plt.cm.register_cmap(cmap=cmap)"
   ]
  },
  {
   "cell_type": "code",
   "execution_count": 3,
   "metadata": {
    "id": "cmLC9M6oW2v8"
   },
   "outputs": [],
   "source": [
    "wine = load_wine()"
   ]
  },
  {
   "cell_type": "code",
   "execution_count": 4,
   "metadata": {
    "colab": {
     "base_uri": "https://localhost:8080/",
     "height": 1000
    },
    "id": "7eptbMYNvq0S",
    "outputId": "84d1fd28-1a3a-4f31-be7a-3312114bdafb"
   },
   "outputs": [
    {
     "name": "stdout",
     "output_type": "stream",
     "text": [
      ".. _wine_dataset:\n",
      "\n",
      "Wine recognition dataset\n",
      "------------------------\n",
      "\n",
      "**Data Set Characteristics:**\n",
      "\n",
      "    :Number of Instances: 178 (50 in each of three classes)\n",
      "    :Number of Attributes: 13 numeric, predictive attributes and the class\n",
      "    :Attribute Information:\n",
      " \t\t- Alcohol\n",
      " \t\t- Malic acid\n",
      " \t\t- Ash\n",
      "\t\t- Alcalinity of ash  \n",
      " \t\t- Magnesium\n",
      "\t\t- Total phenols\n",
      " \t\t- Flavanoids\n",
      " \t\t- Nonflavanoid phenols\n",
      " \t\t- Proanthocyanins\n",
      "\t\t- Color intensity\n",
      " \t\t- Hue\n",
      " \t\t- OD280/OD315 of diluted wines\n",
      " \t\t- Proline\n",
      "\n",
      "    - class:\n",
      "            - class_0\n",
      "            - class_1\n",
      "            - class_2\n",
      "\t\t\n",
      "    :Summary Statistics:\n",
      "    \n",
      "    ============================= ==== ===== ======= =====\n",
      "                                   Min   Max   Mean     SD\n",
      "    ============================= ==== ===== ======= =====\n",
      "    Alcohol:                      11.0  14.8    13.0   0.8\n",
      "    Malic Acid:                   0.74  5.80    2.34  1.12\n",
      "    Ash:                          1.36  3.23    2.36  0.27\n",
      "    Alcalinity of Ash:            10.6  30.0    19.5   3.3\n",
      "    Magnesium:                    70.0 162.0    99.7  14.3\n",
      "    Total Phenols:                0.98  3.88    2.29  0.63\n",
      "    Flavanoids:                   0.34  5.08    2.03  1.00\n",
      "    Nonflavanoid Phenols:         0.13  0.66    0.36  0.12\n",
      "    Proanthocyanins:              0.41  3.58    1.59  0.57\n",
      "    Colour Intensity:              1.3  13.0     5.1   2.3\n",
      "    Hue:                          0.48  1.71    0.96  0.23\n",
      "    OD280/OD315 of diluted wines: 1.27  4.00    2.61  0.71\n",
      "    Proline:                       278  1680     746   315\n",
      "    ============================= ==== ===== ======= =====\n",
      "\n",
      "    :Missing Attribute Values: None\n",
      "    :Class Distribution: class_0 (59), class_1 (71), class_2 (48)\n",
      "    :Creator: R.A. Fisher\n",
      "    :Donor: Michael Marshall (MARSHALL%PLU@io.arc.nasa.gov)\n",
      "    :Date: July, 1988\n",
      "\n",
      "This is a copy of UCI ML Wine recognition datasets.\n",
      "https://archive.ics.uci.edu/ml/machine-learning-databases/wine/wine.data\n",
      "\n",
      "The data is the results of a chemical analysis of wines grown in the same\n",
      "region in Italy by three different cultivators. There are thirteen different\n",
      "measurements taken for different constituents found in the three types of\n",
      "wine.\n",
      "\n",
      "Original Owners: \n",
      "\n",
      "Forina, M. et al, PARVUS - \n",
      "An Extendible Package for Data Exploration, Classification and Correlation. \n",
      "Institute of Pharmaceutical and Food Analysis and Technologies,\n",
      "Via Brigata Salerno, 16147 Genoa, Italy.\n",
      "\n",
      "Citation:\n",
      "\n",
      "Lichman, M. (2013). UCI Machine Learning Repository\n",
      "[https://archive.ics.uci.edu/ml]. Irvine, CA: University of California,\n",
      "School of Information and Computer Science. \n",
      "\n",
      ".. topic:: References\n",
      "\n",
      "  (1) S. Aeberhard, D. Coomans and O. de Vel, \n",
      "  Comparison of Classifiers in High Dimensional Settings, \n",
      "  Tech. Rep. no. 92-02, (1992), Dept. of Computer Science and Dept. of  \n",
      "  Mathematics and Statistics, James Cook University of North Queensland. \n",
      "  (Also submitted to Technometrics). \n",
      "\n",
      "  The data was used with many others for comparing various \n",
      "  classifiers. The classes are separable, though only RDA \n",
      "  has achieved 100% correct classification. \n",
      "  (RDA : 100%, QDA 99.4%, LDA 98.9%, 1NN 96.1% (z-transformed data)) \n",
      "  (All results using the leave-one-out technique) \n",
      "\n",
      "  (2) S. Aeberhard, D. Coomans and O. de Vel, \n",
      "  \"THE CLASSIFICATION PERFORMANCE OF RDA\" \n",
      "  Tech. Rep. no. 92-01, (1992), Dept. of Computer Science and Dept. of \n",
      "  Mathematics and Statistics, James Cook University of North Queensland. \n",
      "  (Also submitted to Journal of Chemometrics).\n",
      "\n"
     ]
    }
   ],
   "source": [
    "print(wine.DESCR)"
   ]
  },
  {
   "cell_type": "code",
   "execution_count": 5,
   "metadata": {
    "id": "7rO21IhnvyIo"
   },
   "outputs": [],
   "source": [
    "# загружаем данные в датафрейм\n",
    "data = pd.DataFrame(wine.data, columns=wine.feature_names)\n",
    "data_class = wine.target"
   ]
  },
  {
   "cell_type": "code",
   "execution_count": 6,
   "metadata": {
    "colab": {
     "base_uri": "https://localhost:8080/",
     "height": 447
    },
    "id": "M92y_fa2wBjn",
    "outputId": "b0f66858-8650-4d65-a29f-b136d4f3612f"
   },
   "outputs": [
    {
     "data": {
      "text/html": [
       "<div>\n",
       "<style scoped>\n",
       "    .dataframe tbody tr th:only-of-type {\n",
       "        vertical-align: middle;\n",
       "    }\n",
       "\n",
       "    .dataframe tbody tr th {\n",
       "        vertical-align: top;\n",
       "    }\n",
       "\n",
       "    .dataframe thead th {\n",
       "        text-align: right;\n",
       "    }\n",
       "</style>\n",
       "<table border=\"1\" class=\"dataframe\">\n",
       "  <thead>\n",
       "    <tr style=\"text-align: right;\">\n",
       "      <th></th>\n",
       "      <th>alcohol</th>\n",
       "      <th>malic_acid</th>\n",
       "      <th>ash</th>\n",
       "      <th>alcalinity_of_ash</th>\n",
       "      <th>magnesium</th>\n",
       "      <th>total_phenols</th>\n",
       "      <th>flavanoids</th>\n",
       "      <th>nonflavanoid_phenols</th>\n",
       "      <th>proanthocyanins</th>\n",
       "      <th>color_intensity</th>\n",
       "      <th>hue</th>\n",
       "      <th>od280/od315_of_diluted_wines</th>\n",
       "      <th>proline</th>\n",
       "    </tr>\n",
       "  </thead>\n",
       "  <tbody>\n",
       "    <tr>\n",
       "      <th>0</th>\n",
       "      <td>14.23</td>\n",
       "      <td>1.71</td>\n",
       "      <td>2.43</td>\n",
       "      <td>15.6</td>\n",
       "      <td>127.0</td>\n",
       "      <td>2.80</td>\n",
       "      <td>3.06</td>\n",
       "      <td>0.28</td>\n",
       "      <td>2.29</td>\n",
       "      <td>5.64</td>\n",
       "      <td>1.04</td>\n",
       "      <td>3.92</td>\n",
       "      <td>1065.0</td>\n",
       "    </tr>\n",
       "    <tr>\n",
       "      <th>1</th>\n",
       "      <td>13.20</td>\n",
       "      <td>1.78</td>\n",
       "      <td>2.14</td>\n",
       "      <td>11.2</td>\n",
       "      <td>100.0</td>\n",
       "      <td>2.65</td>\n",
       "      <td>2.76</td>\n",
       "      <td>0.26</td>\n",
       "      <td>1.28</td>\n",
       "      <td>4.38</td>\n",
       "      <td>1.05</td>\n",
       "      <td>3.40</td>\n",
       "      <td>1050.0</td>\n",
       "    </tr>\n",
       "    <tr>\n",
       "      <th>2</th>\n",
       "      <td>13.16</td>\n",
       "      <td>2.36</td>\n",
       "      <td>2.67</td>\n",
       "      <td>18.6</td>\n",
       "      <td>101.0</td>\n",
       "      <td>2.80</td>\n",
       "      <td>3.24</td>\n",
       "      <td>0.30</td>\n",
       "      <td>2.81</td>\n",
       "      <td>5.68</td>\n",
       "      <td>1.03</td>\n",
       "      <td>3.17</td>\n",
       "      <td>1185.0</td>\n",
       "    </tr>\n",
       "    <tr>\n",
       "      <th>3</th>\n",
       "      <td>14.37</td>\n",
       "      <td>1.95</td>\n",
       "      <td>2.50</td>\n",
       "      <td>16.8</td>\n",
       "      <td>113.0</td>\n",
       "      <td>3.85</td>\n",
       "      <td>3.49</td>\n",
       "      <td>0.24</td>\n",
       "      <td>2.18</td>\n",
       "      <td>7.80</td>\n",
       "      <td>0.86</td>\n",
       "      <td>3.45</td>\n",
       "      <td>1480.0</td>\n",
       "    </tr>\n",
       "    <tr>\n",
       "      <th>4</th>\n",
       "      <td>13.24</td>\n",
       "      <td>2.59</td>\n",
       "      <td>2.87</td>\n",
       "      <td>21.0</td>\n",
       "      <td>118.0</td>\n",
       "      <td>2.80</td>\n",
       "      <td>2.69</td>\n",
       "      <td>0.39</td>\n",
       "      <td>1.82</td>\n",
       "      <td>4.32</td>\n",
       "      <td>1.04</td>\n",
       "      <td>2.93</td>\n",
       "      <td>735.0</td>\n",
       "    </tr>\n",
       "    <tr>\n",
       "      <th>...</th>\n",
       "      <td>...</td>\n",
       "      <td>...</td>\n",
       "      <td>...</td>\n",
       "      <td>...</td>\n",
       "      <td>...</td>\n",
       "      <td>...</td>\n",
       "      <td>...</td>\n",
       "      <td>...</td>\n",
       "      <td>...</td>\n",
       "      <td>...</td>\n",
       "      <td>...</td>\n",
       "      <td>...</td>\n",
       "      <td>...</td>\n",
       "    </tr>\n",
       "    <tr>\n",
       "      <th>173</th>\n",
       "      <td>13.71</td>\n",
       "      <td>5.65</td>\n",
       "      <td>2.45</td>\n",
       "      <td>20.5</td>\n",
       "      <td>95.0</td>\n",
       "      <td>1.68</td>\n",
       "      <td>0.61</td>\n",
       "      <td>0.52</td>\n",
       "      <td>1.06</td>\n",
       "      <td>7.70</td>\n",
       "      <td>0.64</td>\n",
       "      <td>1.74</td>\n",
       "      <td>740.0</td>\n",
       "    </tr>\n",
       "    <tr>\n",
       "      <th>174</th>\n",
       "      <td>13.40</td>\n",
       "      <td>3.91</td>\n",
       "      <td>2.48</td>\n",
       "      <td>23.0</td>\n",
       "      <td>102.0</td>\n",
       "      <td>1.80</td>\n",
       "      <td>0.75</td>\n",
       "      <td>0.43</td>\n",
       "      <td>1.41</td>\n",
       "      <td>7.30</td>\n",
       "      <td>0.70</td>\n",
       "      <td>1.56</td>\n",
       "      <td>750.0</td>\n",
       "    </tr>\n",
       "    <tr>\n",
       "      <th>175</th>\n",
       "      <td>13.27</td>\n",
       "      <td>4.28</td>\n",
       "      <td>2.26</td>\n",
       "      <td>20.0</td>\n",
       "      <td>120.0</td>\n",
       "      <td>1.59</td>\n",
       "      <td>0.69</td>\n",
       "      <td>0.43</td>\n",
       "      <td>1.35</td>\n",
       "      <td>10.20</td>\n",
       "      <td>0.59</td>\n",
       "      <td>1.56</td>\n",
       "      <td>835.0</td>\n",
       "    </tr>\n",
       "    <tr>\n",
       "      <th>176</th>\n",
       "      <td>13.17</td>\n",
       "      <td>2.59</td>\n",
       "      <td>2.37</td>\n",
       "      <td>20.0</td>\n",
       "      <td>120.0</td>\n",
       "      <td>1.65</td>\n",
       "      <td>0.68</td>\n",
       "      <td>0.53</td>\n",
       "      <td>1.46</td>\n",
       "      <td>9.30</td>\n",
       "      <td>0.60</td>\n",
       "      <td>1.62</td>\n",
       "      <td>840.0</td>\n",
       "    </tr>\n",
       "    <tr>\n",
       "      <th>177</th>\n",
       "      <td>14.13</td>\n",
       "      <td>4.10</td>\n",
       "      <td>2.74</td>\n",
       "      <td>24.5</td>\n",
       "      <td>96.0</td>\n",
       "      <td>2.05</td>\n",
       "      <td>0.76</td>\n",
       "      <td>0.56</td>\n",
       "      <td>1.35</td>\n",
       "      <td>9.20</td>\n",
       "      <td>0.61</td>\n",
       "      <td>1.60</td>\n",
       "      <td>560.0</td>\n",
       "    </tr>\n",
       "  </tbody>\n",
       "</table>\n",
       "<p>178 rows × 13 columns</p>\n",
       "</div>"
      ],
      "text/plain": [
       "     alcohol  malic_acid   ash  alcalinity_of_ash  magnesium  total_phenols  \\\n",
       "0      14.23        1.71  2.43               15.6      127.0           2.80   \n",
       "1      13.20        1.78  2.14               11.2      100.0           2.65   \n",
       "2      13.16        2.36  2.67               18.6      101.0           2.80   \n",
       "3      14.37        1.95  2.50               16.8      113.0           3.85   \n",
       "4      13.24        2.59  2.87               21.0      118.0           2.80   \n",
       "..       ...         ...   ...                ...        ...            ...   \n",
       "173    13.71        5.65  2.45               20.5       95.0           1.68   \n",
       "174    13.40        3.91  2.48               23.0      102.0           1.80   \n",
       "175    13.27        4.28  2.26               20.0      120.0           1.59   \n",
       "176    13.17        2.59  2.37               20.0      120.0           1.65   \n",
       "177    14.13        4.10  2.74               24.5       96.0           2.05   \n",
       "\n",
       "     flavanoids  nonflavanoid_phenols  proanthocyanins  color_intensity   hue  \\\n",
       "0          3.06                  0.28             2.29             5.64  1.04   \n",
       "1          2.76                  0.26             1.28             4.38  1.05   \n",
       "2          3.24                  0.30             2.81             5.68  1.03   \n",
       "3          3.49                  0.24             2.18             7.80  0.86   \n",
       "4          2.69                  0.39             1.82             4.32  1.04   \n",
       "..          ...                   ...              ...              ...   ...   \n",
       "173        0.61                  0.52             1.06             7.70  0.64   \n",
       "174        0.75                  0.43             1.41             7.30  0.70   \n",
       "175        0.69                  0.43             1.35            10.20  0.59   \n",
       "176        0.68                  0.53             1.46             9.30  0.60   \n",
       "177        0.76                  0.56             1.35             9.20  0.61   \n",
       "\n",
       "     od280/od315_of_diluted_wines  proline  \n",
       "0                            3.92   1065.0  \n",
       "1                            3.40   1050.0  \n",
       "2                            3.17   1185.0  \n",
       "3                            3.45   1480.0  \n",
       "4                            2.93    735.0  \n",
       "..                            ...      ...  \n",
       "173                          1.74    740.0  \n",
       "174                          1.56    750.0  \n",
       "175                          1.56    835.0  \n",
       "176                          1.62    840.0  \n",
       "177                          1.60    560.0  \n",
       "\n",
       "[178 rows x 13 columns]"
      ]
     },
     "execution_count": 6,
     "metadata": {},
     "output_type": "execute_result"
    }
   ],
   "source": [
    "data"
   ]
  },
  {
   "cell_type": "code",
   "execution_count": 7,
   "metadata": {},
   "outputs": [
    {
     "data": {
      "text/plain": [
       "array([0, 0, 0, 0, 0, 0, 0, 0, 0, 0, 0, 0, 0, 0, 0, 0, 0, 0, 0, 0, 0, 0,\n",
       "       0, 0, 0, 0, 0, 0, 0, 0, 0, 0, 0, 0, 0, 0, 0, 0, 0, 0, 0, 0, 0, 0,\n",
       "       0, 0, 0, 0, 0, 0, 0, 0, 0, 0, 0, 0, 0, 0, 0, 1, 1, 1, 1, 1, 1, 1,\n",
       "       1, 1, 1, 1, 1, 1, 1, 1, 1, 1, 1, 1, 1, 1, 1, 1, 1, 1, 1, 1, 1, 1,\n",
       "       1, 1, 1, 1, 1, 1, 1, 1, 1, 1, 1, 1, 1, 1, 1, 1, 1, 1, 1, 1, 1, 1,\n",
       "       1, 1, 1, 1, 1, 1, 1, 1, 1, 1, 1, 1, 1, 1, 1, 1, 1, 1, 1, 1, 2, 2,\n",
       "       2, 2, 2, 2, 2, 2, 2, 2, 2, 2, 2, 2, 2, 2, 2, 2, 2, 2, 2, 2, 2, 2,\n",
       "       2, 2, 2, 2, 2, 2, 2, 2, 2, 2, 2, 2, 2, 2, 2, 2, 2, 2, 2, 2, 2, 2,\n",
       "       2, 2])"
      ]
     },
     "execution_count": 7,
     "metadata": {},
     "output_type": "execute_result"
    }
   ],
   "source": [
    "data_class"
   ]
  },
  {
   "cell_type": "code",
   "execution_count": 8,
   "metadata": {
    "id": "lFjqjX-iwCaW"
   },
   "outputs": [],
   "source": [
    "# разделяем выборку на тренировочную и тестовую\n",
    "from sklearn.model_selection import train_test_split\n",
    "X_train, X_test, y_train, y_test = train_test_split(data, data_class, test_size=0.25)"
   ]
  },
  {
   "cell_type": "code",
   "execution_count": 9,
   "metadata": {},
   "outputs": [
    {
     "data": {
      "text/plain": [
       "45"
      ]
     },
     "execution_count": 9,
     "metadata": {},
     "output_type": "execute_result"
    }
   ],
   "source": [
    "len(y_test)"
   ]
  },
  {
   "cell_type": "code",
   "execution_count": 10,
   "metadata": {
    "id": "6HINhvLtwdZT"
   },
   "outputs": [],
   "source": [
    "# импортируем LDA-функционал\n",
    "from sklearn.discriminant_analysis import LinearDiscriminantAnalysis"
   ]
  },
  {
   "cell_type": "code",
   "execution_count": 11,
   "metadata": {
    "id": "0Us8oVotwku1"
   },
   "outputs": [],
   "source": [
    "lda = LinearDiscriminantAnalysis()"
   ]
  },
  {
   "cell_type": "code",
   "execution_count": 12,
   "metadata": {
    "colab": {
     "base_uri": "https://localhost:8080/",
     "height": 72
    },
    "id": "h5Ufc5sjwnZ3",
    "outputId": "7d6c7182-8c84-4a03-f784-e32307ab0270"
   },
   "outputs": [
    {
     "data": {
      "text/plain": [
       "LinearDiscriminantAnalysis()"
      ]
     },
     "execution_count": 12,
     "metadata": {},
     "output_type": "execute_result"
    }
   ],
   "source": [
    "# обучаем данные\n",
    "lda.fit(X_train, y_train)"
   ]
  },
  {
   "cell_type": "code",
   "execution_count": 13,
   "metadata": {
    "colab": {
     "base_uri": "https://localhost:8080/",
     "height": 72
    },
    "id": "bcZ3H-T1xSWu",
    "outputId": "b2e22b45-347b-4270-a543-63b2a9ce6378"
   },
   "outputs": [
    {
     "data": {
      "text/plain": [
       "array([1, 0, 0, 1, 1, 1, 1, 1, 0, 2, 0, 0, 1, 2, 2, 2, 1, 1, 0, 1, 2, 1,\n",
       "       1, 0, 0, 2, 2, 1, 1, 2, 1, 1, 2, 1, 1, 2, 2, 1, 0, 0, 0, 1, 0, 2,\n",
       "       0])"
      ]
     },
     "execution_count": 13,
     "metadata": {},
     "output_type": "execute_result"
    }
   ],
   "source": [
    "# делаем прогноз на тестовой выборке\n",
    "lda.predict(X_test)"
   ]
  },
  {
   "cell_type": "code",
   "execution_count": 14,
   "metadata": {
    "id": "9wGodM6OxUds"
   },
   "outputs": [],
   "source": [
    "# смотрим разницу факта и прогноза\n",
    "result = pd.DataFrame([y_test, lda.predict(X_test)]).T"
   ]
  },
  {
   "cell_type": "code",
   "execution_count": 15,
   "metadata": {
    "colab": {
     "base_uri": "https://localhost:8080/",
     "height": 1000
    },
    "id": "RK4zDP6ZxaXI",
    "outputId": "f0c457bc-4f96-47f8-fa00-0ecb66d4e555"
   },
   "outputs": [
    {
     "data": {
      "text/html": [
       "<div>\n",
       "<style scoped>\n",
       "    .dataframe tbody tr th:only-of-type {\n",
       "        vertical-align: middle;\n",
       "    }\n",
       "\n",
       "    .dataframe tbody tr th {\n",
       "        vertical-align: top;\n",
       "    }\n",
       "\n",
       "    .dataframe thead th {\n",
       "        text-align: right;\n",
       "    }\n",
       "</style>\n",
       "<table border=\"1\" class=\"dataframe\">\n",
       "  <thead>\n",
       "    <tr style=\"text-align: right;\">\n",
       "      <th></th>\n",
       "      <th>0</th>\n",
       "      <th>1</th>\n",
       "    </tr>\n",
       "  </thead>\n",
       "  <tbody>\n",
       "    <tr>\n",
       "      <th>0</th>\n",
       "      <td>1</td>\n",
       "      <td>1</td>\n",
       "    </tr>\n",
       "    <tr>\n",
       "      <th>1</th>\n",
       "      <td>1</td>\n",
       "      <td>0</td>\n",
       "    </tr>\n",
       "    <tr>\n",
       "      <th>2</th>\n",
       "      <td>0</td>\n",
       "      <td>0</td>\n",
       "    </tr>\n",
       "    <tr>\n",
       "      <th>3</th>\n",
       "      <td>1</td>\n",
       "      <td>1</td>\n",
       "    </tr>\n",
       "    <tr>\n",
       "      <th>4</th>\n",
       "      <td>1</td>\n",
       "      <td>1</td>\n",
       "    </tr>\n",
       "    <tr>\n",
       "      <th>5</th>\n",
       "      <td>1</td>\n",
       "      <td>1</td>\n",
       "    </tr>\n",
       "    <tr>\n",
       "      <th>6</th>\n",
       "      <td>1</td>\n",
       "      <td>1</td>\n",
       "    </tr>\n",
       "    <tr>\n",
       "      <th>7</th>\n",
       "      <td>1</td>\n",
       "      <td>1</td>\n",
       "    </tr>\n",
       "    <tr>\n",
       "      <th>8</th>\n",
       "      <td>1</td>\n",
       "      <td>0</td>\n",
       "    </tr>\n",
       "    <tr>\n",
       "      <th>9</th>\n",
       "      <td>2</td>\n",
       "      <td>2</td>\n",
       "    </tr>\n",
       "    <tr>\n",
       "      <th>10</th>\n",
       "      <td>0</td>\n",
       "      <td>0</td>\n",
       "    </tr>\n",
       "    <tr>\n",
       "      <th>11</th>\n",
       "      <td>0</td>\n",
       "      <td>0</td>\n",
       "    </tr>\n",
       "    <tr>\n",
       "      <th>12</th>\n",
       "      <td>1</td>\n",
       "      <td>1</td>\n",
       "    </tr>\n",
       "    <tr>\n",
       "      <th>13</th>\n",
       "      <td>2</td>\n",
       "      <td>2</td>\n",
       "    </tr>\n",
       "    <tr>\n",
       "      <th>14</th>\n",
       "      <td>2</td>\n",
       "      <td>2</td>\n",
       "    </tr>\n",
       "    <tr>\n",
       "      <th>15</th>\n",
       "      <td>2</td>\n",
       "      <td>2</td>\n",
       "    </tr>\n",
       "    <tr>\n",
       "      <th>16</th>\n",
       "      <td>1</td>\n",
       "      <td>1</td>\n",
       "    </tr>\n",
       "    <tr>\n",
       "      <th>17</th>\n",
       "      <td>1</td>\n",
       "      <td>1</td>\n",
       "    </tr>\n",
       "    <tr>\n",
       "      <th>18</th>\n",
       "      <td>0</td>\n",
       "      <td>0</td>\n",
       "    </tr>\n",
       "    <tr>\n",
       "      <th>19</th>\n",
       "      <td>1</td>\n",
       "      <td>1</td>\n",
       "    </tr>\n",
       "    <tr>\n",
       "      <th>20</th>\n",
       "      <td>2</td>\n",
       "      <td>2</td>\n",
       "    </tr>\n",
       "    <tr>\n",
       "      <th>21</th>\n",
       "      <td>1</td>\n",
       "      <td>1</td>\n",
       "    </tr>\n",
       "    <tr>\n",
       "      <th>22</th>\n",
       "      <td>1</td>\n",
       "      <td>1</td>\n",
       "    </tr>\n",
       "    <tr>\n",
       "      <th>23</th>\n",
       "      <td>0</td>\n",
       "      <td>0</td>\n",
       "    </tr>\n",
       "    <tr>\n",
       "      <th>24</th>\n",
       "      <td>0</td>\n",
       "      <td>0</td>\n",
       "    </tr>\n",
       "    <tr>\n",
       "      <th>25</th>\n",
       "      <td>2</td>\n",
       "      <td>2</td>\n",
       "    </tr>\n",
       "    <tr>\n",
       "      <th>26</th>\n",
       "      <td>2</td>\n",
       "      <td>2</td>\n",
       "    </tr>\n",
       "    <tr>\n",
       "      <th>27</th>\n",
       "      <td>1</td>\n",
       "      <td>1</td>\n",
       "    </tr>\n",
       "    <tr>\n",
       "      <th>28</th>\n",
       "      <td>1</td>\n",
       "      <td>1</td>\n",
       "    </tr>\n",
       "    <tr>\n",
       "      <th>29</th>\n",
       "      <td>2</td>\n",
       "      <td>2</td>\n",
       "    </tr>\n",
       "    <tr>\n",
       "      <th>30</th>\n",
       "      <td>1</td>\n",
       "      <td>1</td>\n",
       "    </tr>\n",
       "    <tr>\n",
       "      <th>31</th>\n",
       "      <td>1</td>\n",
       "      <td>1</td>\n",
       "    </tr>\n",
       "    <tr>\n",
       "      <th>32</th>\n",
       "      <td>2</td>\n",
       "      <td>2</td>\n",
       "    </tr>\n",
       "    <tr>\n",
       "      <th>33</th>\n",
       "      <td>1</td>\n",
       "      <td>1</td>\n",
       "    </tr>\n",
       "    <tr>\n",
       "      <th>34</th>\n",
       "      <td>1</td>\n",
       "      <td>1</td>\n",
       "    </tr>\n",
       "    <tr>\n",
       "      <th>35</th>\n",
       "      <td>2</td>\n",
       "      <td>2</td>\n",
       "    </tr>\n",
       "    <tr>\n",
       "      <th>36</th>\n",
       "      <td>2</td>\n",
       "      <td>2</td>\n",
       "    </tr>\n",
       "    <tr>\n",
       "      <th>37</th>\n",
       "      <td>1</td>\n",
       "      <td>1</td>\n",
       "    </tr>\n",
       "    <tr>\n",
       "      <th>38</th>\n",
       "      <td>0</td>\n",
       "      <td>0</td>\n",
       "    </tr>\n",
       "    <tr>\n",
       "      <th>39</th>\n",
       "      <td>0</td>\n",
       "      <td>0</td>\n",
       "    </tr>\n",
       "    <tr>\n",
       "      <th>40</th>\n",
       "      <td>0</td>\n",
       "      <td>0</td>\n",
       "    </tr>\n",
       "    <tr>\n",
       "      <th>41</th>\n",
       "      <td>1</td>\n",
       "      <td>1</td>\n",
       "    </tr>\n",
       "    <tr>\n",
       "      <th>42</th>\n",
       "      <td>0</td>\n",
       "      <td>0</td>\n",
       "    </tr>\n",
       "    <tr>\n",
       "      <th>43</th>\n",
       "      <td>2</td>\n",
       "      <td>2</td>\n",
       "    </tr>\n",
       "    <tr>\n",
       "      <th>44</th>\n",
       "      <td>0</td>\n",
       "      <td>0</td>\n",
       "    </tr>\n",
       "  </tbody>\n",
       "</table>\n",
       "</div>"
      ],
      "text/plain": [
       "    0  1\n",
       "0   1  1\n",
       "1   1  0\n",
       "2   0  0\n",
       "3   1  1\n",
       "4   1  1\n",
       "5   1  1\n",
       "6   1  1\n",
       "7   1  1\n",
       "8   1  0\n",
       "9   2  2\n",
       "10  0  0\n",
       "11  0  0\n",
       "12  1  1\n",
       "13  2  2\n",
       "14  2  2\n",
       "15  2  2\n",
       "16  1  1\n",
       "17  1  1\n",
       "18  0  0\n",
       "19  1  1\n",
       "20  2  2\n",
       "21  1  1\n",
       "22  1  1\n",
       "23  0  0\n",
       "24  0  0\n",
       "25  2  2\n",
       "26  2  2\n",
       "27  1  1\n",
       "28  1  1\n",
       "29  2  2\n",
       "30  1  1\n",
       "31  1  1\n",
       "32  2  2\n",
       "33  1  1\n",
       "34  1  1\n",
       "35  2  2\n",
       "36  2  2\n",
       "37  1  1\n",
       "38  0  0\n",
       "39  0  0\n",
       "40  0  0\n",
       "41  1  1\n",
       "42  0  0\n",
       "43  2  2\n",
       "44  0  0"
      ]
     },
     "execution_count": 15,
     "metadata": {},
     "output_type": "execute_result"
    }
   ],
   "source": [
    "result"
   ]
  },
  {
   "cell_type": "code",
   "execution_count": 16,
   "metadata": {
    "id": "B66nVhbk2Mf1"
   },
   "outputs": [],
   "source": [
    "# расчет точности - отношение верных прогнозов к общему количеству позиций\n",
    "# является хорошей метрикой для сбалансированных классов \n",
    "# (наблюдений в категориях примерно одинаковое количество)\n",
    "\n",
    "from sklearn.metrics import accuracy_score"
   ]
  },
  {
   "cell_type": "code",
   "execution_count": 17,
   "metadata": {
    "colab": {
     "base_uri": "https://localhost:8080/",
     "height": 55
    },
    "id": "2x5pYOZB2P2F",
    "outputId": "3ce07925-4c20-4911-dd19-12f48aead815"
   },
   "outputs": [
    {
     "data": {
      "text/plain": [
       "0.9555555555555556"
      ]
     },
     "execution_count": 17,
     "metadata": {},
     "output_type": "execute_result"
    }
   ],
   "source": [
    "accuracy_score(y_test, lda.predict(X_test))"
   ]
  },
  {
   "cell_type": "code",
   "execution_count": 18,
   "metadata": {
    "colab": {
     "base_uri": "https://localhost:8080/",
     "height": 301
    },
    "id": "aBdqgd5ixdMh",
    "outputId": "4c410bf2-a27b-41be-9c95-c330a849f028"
   },
   "outputs": [
    {
     "data": {
      "text/plain": [
       "array([[ 3.54436660e+00,  1.54047440e-01,  4.35975020e+00,\n",
       "        -5.26333235e-01,  2.34302005e-02,  1.05834468e+00,\n",
       "         3.63462233e+00, -4.24219683e-02, -2.07946065e+00,\n",
       "        -1.00736138e+00,  1.99690872e+00,  3.13320646e+00,\n",
       "         1.33488082e-02],\n",
       "       [-3.21319461e+00, -4.92368177e-01, -6.12107636e+00,\n",
       "         2.28934199e-01, -1.19440668e-02, -1.73171163e+00,\n",
       "         2.04541777e+00,  3.58672531e+00,  1.73602809e+00,\n",
       "        -4.35560027e-01,  5.45654168e+00,  3.04082336e-01,\n",
       "        -9.14355527e-03],\n",
       "       [-3.52307246e-01,  4.64771209e-01,  2.51846478e+00,\n",
       "         3.90172765e-01, -1.49830654e-02,  9.45925697e-01,\n",
       "        -7.63020397e+00, -4.82536904e+00,  4.09687075e-01,\n",
       "         1.93599410e+00, -1.00895045e+01, -4.59149846e+00,\n",
       "        -5.35301630e-03]])"
      ]
     },
     "execution_count": 18,
     "metadata": {},
     "output_type": "execute_result"
    }
   ],
   "source": [
    "# коэффициенты дискриминатных линий\n",
    "lda.coef_"
   ]
  },
  {
   "cell_type": "code",
   "execution_count": 19,
   "metadata": {
    "colab": {
     "base_uri": "https://localhost:8080/",
     "height": 285
    },
    "id": "6fWjKgl4yLHO",
    "outputId": "a7b211e3-4835-4864-af20-fc0c5c458d1c"
   },
   "outputs": [
    {
     "data": {
      "image/png": "[encoded data removed]",
      "text/plain": [
       "<Figure size 432x288 with 1 Axes>"
      ]
     },
     "metadata": {
      "needs_background": "light"
     },
     "output_type": "display_data"
    }
   ],
   "source": [
    "# визуализируем дискриминантную линию только по 2 признакам\n",
    "plt.scatter(X_train['ash'], X_train['flavanoids'], c=y_train)\n",
    "plt.show()"
   ]
  },
  {
   "cell_type": "code",
   "execution_count": 20,
   "metadata": {
    "id": "KFSam-cJzCOG"
   },
   "outputs": [],
   "source": [
    "small_train = X_train[(y_train == 0) | (y_train == 2)]\n",
    "small_train = small_train[['ash', 'flavanoids']]\n",
    "sy_train = y_train[(y_train == 0) | (y_train == 2)]\n",
    "small_test = X_test[(y_test == 0) | (y_test == 2)]\n",
    "small_test = small_test[['ash', 'flavanoids']]\n",
    "sy_test = y_test[(y_test == 0) | (y_test == 2)]"
   ]
  },
  {
   "cell_type": "code",
   "execution_count": 21,
   "metadata": {
    "colab": {
     "base_uri": "https://localhost:8080/",
     "height": 285
    },
    "id": "SX47KNgXySEU",
    "outputId": "164c922b-8b95-4e89-8687-d3208ed3c20a"
   },
   "outputs": [
    {
     "data": {
      "image/png": "[encoded data removed]",
      "text/plain": [
       "<Figure size 432x288 with 1 Axes>"
      ]
     },
     "metadata": {
      "needs_background": "light"
     },
     "output_type": "display_data"
    }
   ],
   "source": [
    "plt.scatter(small_train['ash'], small_train['flavanoids'], c=sy_train)\n",
    "plt.show()"
   ]
  },
  {
   "cell_type": "code",
   "execution_count": 23,
   "metadata": {
    "colab": {
     "base_uri": "https://localhost:8080/",
     "height": 72
    },
    "id": "jzWXDuY7y453",
    "outputId": "a364ac48-a533-407e-c774-26c6342e77c6"
   },
   "outputs": [
    {
     "data": {
      "text/plain": [
       "LinearDiscriminantAnalysis()"
      ]
     },
     "execution_count": 23,
     "metadata": {},
     "output_type": "execute_result"
    }
   ],
   "source": [
    "lda_small = LinearDiscriminantAnalysis()\n",
    "lda_small.fit(small_train, sy_train)"
   ]
  },
  {
   "cell_type": "code",
   "execution_count": 24,
   "metadata": {
    "colab": {
     "base_uri": "https://localhost:8080/",
     "height": 72
    },
    "id": "MSo9yPBxzPYx",
    "outputId": "02ff0c93-cf22-46f4-8c40-e9be2dde039a"
   },
   "outputs": [
    {
     "data": {
      "text/plain": [
       "array([[2.45354167, 2.974375  ],\n",
       "       [2.45055556, 0.80444444]])"
      ]
     },
     "execution_count": 24,
     "metadata": {},
     "output_type": "execute_result"
    }
   ],
   "source": [
    "# посмотрим на наши центроиды\n",
    "lda_small.means_"
   ]
  },
  {
   "cell_type": "code",
   "execution_count": 25,
   "metadata": {
    "colab": {
     "base_uri": "https://localhost:8080/",
     "height": 285
    },
    "id": "IrQb_JTwzREc",
    "outputId": "34e9bd73-e15c-494b-9f29-ad9584f1d217"
   },
   "outputs": [
    {
     "data": {
      "text/plain": [
       "<matplotlib.contour.QuadContourSet at 0x2b9e9920b80>"
      ]
     },
     "execution_count": 25,
     "metadata": {},
     "output_type": "execute_result"
    },
    {
     "data": {
      "image/png": "[encoded data removed]",
      "text/plain": [
       "<Figure size 432x288 with 1 Axes>"
      ]
     },
     "metadata": {
      "needs_background": "light"
     },
     "output_type": "display_data"
    }
   ],
   "source": [
    "# сам scatter plot\n",
    "plt.scatter(small_train['ash'], small_train['flavanoids'], c=sy_train)\n",
    "# центроиды\n",
    "plt.scatter(lda_small.means_[:, 0], lda_small.means_[:, 1], c='r', s=150, marker='*')\n",
    "\n",
    "# делаем условную \"сетку\"\n",
    "nx, ny = 200, 100\n",
    "x_min, x_max = plt.xlim()\n",
    "y_min, y_max = plt.ylim()\n",
    "xx, yy = np.meshgrid(np.linspace(x_min, x_max, nx),\n",
    "                         np.linspace(y_min, y_max, ny))\n",
    "\n",
    "# предсказываем класс каждой точки нашей сетки\n",
    "Z = lda_small.predict_proba(np.c_[xx.ravel(), yy.ravel()])\n",
    "Z = Z[:, 1].reshape(xx.shape)\n",
    "\n",
    "# закрашиваем классы разными цветами\n",
    "plt.pcolormesh(xx, yy, Z, cmap='red_blue_classes',\n",
    "                   norm=colors.Normalize(0., 1.), zorder=-1, shading='auto')\n",
    "\n",
    "# отделяем друг от друга\n",
    "plt.contour(xx, yy, Z, [0.5], linewidths=2., colors='white')"
   ]
  },
  {
   "cell_type": "code",
   "execution_count": 26,
   "metadata": {
    "colab": {
     "base_uri": "https://localhost:8080/",
     "height": 55
    },
    "id": "e4_nponj4X5a",
    "outputId": "8c6ea1c8-0f94-4ecd-9415-1c822846cdac"
   },
   "outputs": [
    {
     "data": {
      "text/plain": [
       "array([[  3.9494402 , -17.16931072]])"
      ]
     },
     "execution_count": 26,
     "metadata": {},
     "output_type": "execute_result"
    }
   ],
   "source": [
    "# второй признак в 5 раз важнее первого для кластеризации (это видно по визуализации)\n",
    "lda_small.coef_"
   ]
  },
  {
   "cell_type": "code",
   "execution_count": 27,
   "metadata": {
    "colab": {
     "base_uri": "https://localhost:8080/",
     "height": 55
    },
    "id": "fDmV457H4kz_",
    "outputId": "ae9a089e-ff63-470d-c98f-0c326fa3f748"
   },
   "outputs": [
    {
     "data": {
      "text/plain": [
       "1.0"
      ]
     },
     "execution_count": 27,
     "metadata": {},
     "output_type": "execute_result"
    }
   ],
   "source": [
    "# какая будет точность?\n",
    "accuracy_score(sy_test, lda_small.predict(small_test))"
   ]
  },
  {
   "cell_type": "code",
   "execution_count": 28,
   "metadata": {},
   "outputs": [
    {
     "data": {
      "text/html": [
       "<div>\n",
       "<style scoped>\n",
       "    .dataframe tbody tr th:only-of-type {\n",
       "        vertical-align: middle;\n",
       "    }\n",
       "\n",
       "    .dataframe tbody tr th {\n",
       "        vertical-align: top;\n",
       "    }\n",
       "\n",
       "    .dataframe thead th {\n",
       "        text-align: right;\n",
       "    }\n",
       "</style>\n",
       "<table border=\"1\" class=\"dataframe\">\n",
       "  <thead>\n",
       "    <tr style=\"text-align: right;\">\n",
       "      <th></th>\n",
       "      <th>flavanoids</th>\n",
       "      <th>ash</th>\n",
       "    </tr>\n",
       "  </thead>\n",
       "  <tbody>\n",
       "    <tr>\n",
       "      <th>flavanoids</th>\n",
       "      <td>1.000000</td>\n",
       "      <td>0.115077</td>\n",
       "    </tr>\n",
       "    <tr>\n",
       "      <th>ash</th>\n",
       "      <td>0.115077</td>\n",
       "      <td>1.000000</td>\n",
       "    </tr>\n",
       "  </tbody>\n",
       "</table>\n",
       "</div>"
      ],
      "text/plain": [
       "            flavanoids       ash\n",
       "flavanoids    1.000000  0.115077\n",
       "ash           0.115077  1.000000"
      ]
     },
     "execution_count": 28,
     "metadata": {},
     "output_type": "execute_result"
    }
   ],
   "source": [
    "data[['flavanoids', 'ash']].corr()"
   ]
  },
  {
   "cell_type": "code",
   "execution_count": 29,
   "metadata": {
    "id": "E-gchIEJ4t2d"
   },
   "outputs": [],
   "source": [
    "# заменим модель на логистическую регресиию\n",
    "# кому интересно, отличия логистической регресссии от LDA: \n",
    "# https://www.introspective-mode.org/logistic-regression-or-discriminant-function-analysis/\n",
    "# Основные моменты:\n",
    "# LR может работать с категориальными признаками \n",
    "# зависимая переменная в LR подчиняется логистической функции (изменяется от 0 до 1) и непрерывна\n",
    "from sklearn.linear_model import LogisticRegression"
   ]
  },
  {
   "cell_type": "code",
   "execution_count": 30,
   "metadata": {
    "id": "R4NDgweF41cm"
   },
   "outputs": [],
   "source": [
    "lr = LogisticRegression()"
   ]
  },
  {
   "cell_type": "code",
   "execution_count": 31,
   "metadata": {
    "colab": {
     "base_uri": "https://localhost:8080/",
     "height": 125
    },
    "id": "badyR0Tj43nx",
    "outputId": "53b815eb-53be-458c-bd4a-c4d20a0b3245"
   },
   "outputs": [
    {
     "data": {
      "text/plain": [
       "LogisticRegression()"
      ]
     },
     "execution_count": 31,
     "metadata": {},
     "output_type": "execute_result"
    }
   ],
   "source": [
    "lr.fit(small_train, sy_train)"
   ]
  },
  {
   "cell_type": "code",
   "execution_count": 32,
   "metadata": {
    "colab": {
     "base_uri": "https://localhost:8080/",
     "height": 72
    },
    "id": "NfqW9uR9481f",
    "outputId": "467e1065-de9c-47c6-8b16-82ee17b54410"
   },
   "outputs": [
    {
     "data": {
      "text/plain": [
       "array([0, 2, 0, 0, 2, 2, 2, 0, 2, 0, 0, 2, 2, 2, 2, 2, 2, 0, 0, 0, 0, 2,\n",
       "       0])"
      ]
     },
     "execution_count": 32,
     "metadata": {},
     "output_type": "execute_result"
    }
   ],
   "source": [
    "lr.predict(small_test)"
   ]
  },
  {
   "cell_type": "code",
   "execution_count": 33,
   "metadata": {
    "colab": {
     "base_uri": "https://localhost:8080/",
     "height": 55
    },
    "id": "qqFys9hT4_Eo",
    "outputId": "498814d0-6e8b-4943-fbea-044bd2392bd9"
   },
   "outputs": [
    {
     "data": {
      "text/plain": [
       "1.0"
      ]
     },
     "execution_count": 33,
     "metadata": {},
     "output_type": "execute_result"
    }
   ],
   "source": [
    "accuracy_score(sy_test, lr.predict(small_test))"
   ]
  },
  {
   "cell_type": "code",
   "execution_count": 34,
   "metadata": {
    "colab": {
     "base_uri": "https://localhost:8080/",
     "height": 55
    },
    "id": "1Ei0UlN55CZ_",
    "outputId": "73d548b4-a064-44bf-c925-0077561d60af"
   },
   "outputs": [
    {
     "data": {
      "text/plain": [
       "array([[ 0.16226121, -3.16986305]])"
      ]
     },
     "execution_count": 34,
     "metadata": {},
     "output_type": "execute_result"
    }
   ],
   "source": [
    "lr.coef_"
   ]
  },
  {
   "cell_type": "code",
   "execution_count": 35,
   "metadata": {
    "colab": {
     "base_uri": "https://localhost:8080/",
     "height": 285
    },
    "id": "eTw2FBQh5GKr",
    "outputId": "a6cdbf48-2fd6-4a27-fcaa-166352fb7c39"
   },
   "outputs": [
    {
     "data": {
      "image/png": "[encoded data removed]",
      "text/plain": [
       "<Figure size 432x288 with 1 Axes>"
      ]
     },
     "metadata": {
      "needs_background": "light"
     },
     "output_type": "display_data"
    }
   ],
   "source": [
    "plt.scatter(small_train['ash'], small_train['flavanoids'], c=sy_train)\n",
    "\n",
    "nx, ny = 200, 100\n",
    "x_min, x_max = plt.xlim()\n",
    "y_min, y_max = plt.ylim()\n",
    "xx, yy = np.meshgrid(np.linspace(x_min, x_max, nx),\n",
    "                         np.linspace(y_min, y_max, ny))\n",
    "Z = lr.predict_proba(np.c_[xx.ravel(), yy.ravel()])\n",
    "Z = Z[:, 1].reshape(xx.shape)\n",
    "plt.pcolormesh(xx, yy, Z, cmap='red_blue_classes',\n",
    "                   norm=colors.Normalize(0., 1.), zorder=-1, shading='auto')\n",
    "plt.contour(xx, yy, Z, [0.5], linewidths=2., colors='white')\n",
    "\n",
    "plt.show()"
   ]
  },
  {
   "cell_type": "markdown",
   "metadata": {
    "id": "UJefBk-e58kX"
   },
   "source": [
    "## Кластеризация"
   ]
  },
  {
   "cell_type": "code",
   "execution_count": 59,
   "metadata": {
    "id": "ZK-UchxSXREG"
   },
   "outputs": [],
   "source": [
    "# генерируем искусвтенные данные для примера\n",
    "from sklearn.datasets import make_moons, make_blobs"
   ]
  },
  {
   "cell_type": "code",
   "execution_count": 72,
   "metadata": {
    "id": "_NxdrQ7RXSF5"
   },
   "outputs": [],
   "source": [
    "# 200 точек с 2 центрами, СКО - 2.5\n",
    "X, y = make_blobs(n_samples=200, centers=2, cluster_std=10)"
   ]
  },
  {
   "cell_type": "code",
   "execution_count": 73,
   "metadata": {},
   "outputs": [
    {
     "data": {
      "text/plain": [
       "array([[-2.74985209e+01, -9.49557583e+00],\n",
       "       [ 2.58904054e+00, -9.01466135e+00],\n",
       "       [-3.37970864e-01,  2.15648020e+01],\n",
       "       [ 3.50107845e+00,  1.44227286e+01],\n",
       "       [ 7.55144246e+00,  2.56433645e+01],\n",
       "       [-2.67597541e+01,  1.53140182e+01],\n",
       "       [ 3.30887820e+00,  8.77185138e+00],\n",
       "       [-1.57156703e+01,  5.40604822e+00],\n",
       "       [ 5.48958247e+00,  1.84667134e+00],\n",
       "       [ 1.08389267e+01,  1.32372519e+01],\n",
       "       [ 2.88763636e+01,  1.36137697e+01],\n",
       "       [ 4.31462586e+00,  1.03817511e+01],\n",
       "       [-6.03914537e+00,  1.01082045e+01],\n",
       "       [ 2.37434560e+01, -4.93022452e+00],\n",
       "       [-1.34893239e+01,  1.64325128e+01],\n",
       "       [-7.93489433e+00,  1.55600809e+01],\n",
       "       [-5.66153215e+00,  5.41973241e+00],\n",
       "       [-2.59391716e+00,  9.57145431e+00],\n",
       "       [-3.32647454e+00,  1.45803124e+01],\n",
       "       [ 1.32625632e+01,  2.16362247e-02],\n",
       "       [ 2.12549006e+00, -5.77199907e-01],\n",
       "       [-1.77239399e+01,  3.27608007e+01],\n",
       "       [-2.25082774e+01,  4.50614097e+00],\n",
       "       [-1.33484764e+00,  4.28215328e+00],\n",
       "       [ 6.30205838e-01, -6.71457844e+00],\n",
       "       [ 6.48154086e+00,  2.84062239e+01],\n",
       "       [ 8.01880678e+00,  1.47258352e+01],\n",
       "       [-8.79512425e+00,  5.42029112e+00],\n",
       "       [ 2.49445840e+00,  1.65500503e+01],\n",
       "       [ 1.68973679e+01,  1.88697691e+01],\n",
       "       [-2.76581596e+01,  2.10703856e-01],\n",
       "       [ 4.48697413e+00,  5.77336851e-01],\n",
       "       [-1.35433661e-01,  8.56228503e+00],\n",
       "       [-2.69402716e+01,  1.45001596e+01],\n",
       "       [-2.54331502e+00,  7.96587148e+00],\n",
       "       [ 1.20469616e+01,  1.50949115e+01],\n",
       "       [ 1.46472925e+01, -1.71764372e+01],\n",
       "       [-4.81085768e+00,  7.72300228e+00],\n",
       "       [ 1.21483510e+00,  8.49167519e+00],\n",
       "       [-1.22639171e+01, -7.57434778e+00],\n",
       "       [-1.33876066e+01,  8.53186472e+00],\n",
       "       [-1.15557480e+01,  1.19282153e+01],\n",
       "       [ 1.71542626e+01, -7.33953429e+00],\n",
       "       [ 1.22697506e+01,  2.02846688e+01],\n",
       "       [-1.08188803e+01, -2.31028282e+01],\n",
       "       [-1.67590798e+01,  1.90197682e+00],\n",
       "       [-3.12819075e+01,  6.34959166e+00],\n",
       "       [ 6.50006901e+00, -6.13269859e+00],\n",
       "       [ 1.37758173e+01,  2.25836263e+00],\n",
       "       [-1.29370149e+01, -4.59615104e+00],\n",
       "       [ 4.14675436e-01, -2.03414928e+00],\n",
       "       [-1.73639174e+01,  2.50927970e+01],\n",
       "       [ 6.88660426e+00,  1.28746388e+01],\n",
       "       [-1.11601585e+00,  8.97854573e+00],\n",
       "       [-2.12959760e+01,  2.90370269e+00],\n",
       "       [-4.90188957e+00,  3.15508814e+00],\n",
       "       [-9.61689155e+00, -1.26769724e-01],\n",
       "       [-1.41630291e+01,  2.76779435e+01],\n",
       "       [-9.27170263e-02, -1.25869089e+01],\n",
       "       [ 1.65750447e+01,  2.00975594e+01],\n",
       "       [-7.64309271e+00, -2.33707706e+00],\n",
       "       [ 2.16325653e+01, -1.15150694e+00],\n",
       "       [ 1.63776348e+01,  2.64160753e+00],\n",
       "       [-2.16987820e+00, -9.09633293e-01],\n",
       "       [ 1.91848731e+01, -1.06849908e+01],\n",
       "       [ 1.22285530e+01, -5.99827480e+00],\n",
       "       [-1.07350948e+01,  2.99075046e+01],\n",
       "       [ 9.80617648e+00,  2.25922228e+00],\n",
       "       [ 6.05033651e+00, -1.28139792e+01],\n",
       "       [-8.89809534e-01, -7.81073812e-01],\n",
       "       [ 1.32954511e+01,  6.35994006e+00],\n",
       "       [ 6.66835943e+00, -6.46909965e+00],\n",
       "       [-1.72122379e+01,  1.90502339e+01],\n",
       "       [ 2.11989813e+00,  5.85156181e+00],\n",
       "       [ 1.26950991e+01, -2.50204640e-01],\n",
       "       [-7.14508746e+00,  1.61986747e+01],\n",
       "       [-4.57643692e+00, -1.78352751e+00],\n",
       "       [-1.07634336e+01,  4.02277862e+00],\n",
       "       [ 5.75344880e-01,  2.41572895e+01],\n",
       "       [ 4.35341768e+00,  1.72084454e+01],\n",
       "       [-9.29746770e+00,  1.28976564e+01],\n",
       "       [ 3.45560378e+00,  1.49962544e+01],\n",
       "       [-1.39717425e+01, -1.80580917e+01],\n",
       "       [ 6.16843903e+00,  6.92583685e+00],\n",
       "       [-1.50118393e+01,  1.99349550e+01],\n",
       "       [ 6.43882940e-01,  1.33360548e+01],\n",
       "       [-1.94284109e+01, -1.13359142e+01],\n",
       "       [-1.41110758e+00,  2.05804709e+01],\n",
       "       [ 5.24652292e+00,  1.95934798e+01],\n",
       "       [ 1.90510241e+00, -4.57443732e+00],\n",
       "       [ 5.94532855e+00,  3.29382325e+00],\n",
       "       [ 1.50533067e+01,  1.44603012e+01],\n",
       "       [ 1.20523955e+00,  1.03379163e+01],\n",
       "       [-4.35018098e+00,  1.13733476e+01],\n",
       "       [ 1.46298589e+01,  1.72542601e+01],\n",
       "       [ 6.11969032e+00,  2.12004113e+01],\n",
       "       [ 4.53289144e+00,  1.31360193e+01],\n",
       "       [-1.12103428e+01,  8.57873037e-02],\n",
       "       [ 1.85262804e+01,  2.21956327e+01],\n",
       "       [-1.96211206e+01, -4.07284225e-01],\n",
       "       [ 9.67699632e+00, -3.02141984e+00],\n",
       "       [-1.39298503e+01, -8.34373979e+00],\n",
       "       [ 2.08516473e+01,  1.25700641e+01],\n",
       "       [ 5.40434621e+00,  5.06097885e-01],\n",
       "       [-1.64739090e+01, -2.37195096e-01],\n",
       "       [-1.10310793e-01,  7.77033610e+00],\n",
       "       [ 7.57416383e+00,  3.48490910e+01],\n",
       "       [-8.22272060e+00,  1.38305663e+01],\n",
       "       [-8.51017631e+00,  1.13895649e+01],\n",
       "       [-4.00340050e+00,  1.40037425e+01],\n",
       "       [ 1.24053138e+01,  6.31922522e+00],\n",
       "       [ 2.13640363e-01,  1.56198342e+01],\n",
       "       [-1.25638904e+01,  1.74734688e+01],\n",
       "       [ 6.34327902e+00,  8.10962223e+00],\n",
       "       [-6.64821341e+00,  8.78866663e+00],\n",
       "       [ 2.47569847e+00,  1.11325250e+01],\n",
       "       [ 1.55510439e+01,  2.68534930e+00],\n",
       "       [ 1.91305284e+00,  1.20426490e+01],\n",
       "       [-2.50398364e+01,  1.62269163e+01],\n",
       "       [ 6.54529224e+00,  1.52470814e+01],\n",
       "       [ 1.33671357e+01,  1.27559079e+01],\n",
       "       [ 6.23294564e+00,  1.14973429e+01],\n",
       "       [ 1.92717263e+01, -8.44940354e-01],\n",
       "       [ 5.22665424e+00,  9.82609396e+00],\n",
       "       [ 4.12201759e+00,  2.18739067e+01],\n",
       "       [-2.01843179e+01,  2.13013739e+00],\n",
       "       [ 5.29928010e+00,  6.11362354e+00],\n",
       "       [ 3.83594827e+01,  2.80514664e+01],\n",
       "       [-1.57855790e+01,  2.82888710e+01],\n",
       "       [-1.28549254e-01,  9.82636878e+00],\n",
       "       [ 4.90369091e+00, -2.52277490e+01],\n",
       "       [-8.26983370e+00,  4.92227132e-01],\n",
       "       [-9.67947149e+00,  1.14085692e-01],\n",
       "       [ 9.81661321e+00,  7.81561899e+00],\n",
       "       [-1.74415343e+01,  4.80822462e+00],\n",
       "       [-1.42601452e+01, -2.93387797e+00],\n",
       "       [ 3.64309991e+00,  1.02105582e+01],\n",
       "       [-1.31798218e+01,  4.37574488e+00],\n",
       "       [-6.59966780e-01,  1.17026690e+01],\n",
       "       [ 4.47747350e-01, -2.35402338e-01],\n",
       "       [ 1.16436509e+00,  2.11313877e+01],\n",
       "       [ 1.50969923e+01,  1.05226528e+01],\n",
       "       [-1.63879431e+01,  5.01759350e+00],\n",
       "       [ 3.64168657e+00, -2.61915238e+00],\n",
       "       [ 1.05139319e+01,  4.20464960e+00],\n",
       "       [-1.44142583e+01,  8.42947246e+00],\n",
       "       [ 2.16550439e+01,  1.63964246e+01],\n",
       "       [ 2.21455999e+01,  8.10711966e+00],\n",
       "       [-2.47206307e+00,  1.90947477e+01],\n",
       "       [ 1.53077203e+01,  5.52499268e-01],\n",
       "       [-2.63328139e+01,  1.58300334e+01],\n",
       "       [-2.97072936e+00,  4.84626685e+00],\n",
       "       [ 5.78747979e-02,  2.74522033e+00],\n",
       "       [-1.24695761e+01,  2.31877633e+01],\n",
       "       [ 1.66410465e+00, -2.93661742e+00],\n",
       "       [ 9.79030336e+00,  4.86516382e-01],\n",
       "       [ 2.92308701e+00,  3.97216268e+00],\n",
       "       [ 1.14711218e+01, -2.73202742e+00],\n",
       "       [-1.46967190e+01,  1.97009674e+01],\n",
       "       [ 8.07052395e+00,  1.70866992e+01],\n",
       "       [-1.87066754e+00,  1.32570504e+01],\n",
       "       [ 3.03758769e+01,  4.12684929e+00],\n",
       "       [-2.57380430e+01, -5.15254232e-02],\n",
       "       [ 2.96020726e+00,  7.12036069e+00],\n",
       "       [ 1.51341018e+01,  9.99100826e-01],\n",
       "       [-1.45990169e+01,  1.26581360e+01],\n",
       "       [-8.34592154e+00,  4.15635072e-01],\n",
       "       [-7.88488686e+00, -6.52152470e+00],\n",
       "       [-1.55433871e+01,  1.44088452e+01],\n",
       "       [-4.56017911e+00,  7.83630714e+00],\n",
       "       [ 5.20259480e+00,  1.18950317e+01],\n",
       "       [-1.65027328e+01,  9.56167632e+00],\n",
       "       [-1.06039750e+00,  9.14307684e+00],\n",
       "       [-6.62332371e+00,  1.00804944e+01],\n",
       "       [-3.17630660e+00,  8.96103897e+00],\n",
       "       [ 1.08806778e+01, -4.38857134e+00],\n",
       "       [-1.40766996e+01,  1.10768291e+00],\n",
       "       [ 8.99548460e+00, -7.61507091e+00],\n",
       "       [-1.01153792e+01, -1.77396186e+00],\n",
       "       [ 2.02278244e+01,  1.94821469e+00],\n",
       "       [-3.70141505e+00,  3.35016988e+00],\n",
       "       [ 4.49294029e+00,  1.02806863e+01],\n",
       "       [-9.82084784e+00,  1.19576487e+01],\n",
       "       [-4.77764171e+00, -6.03094739e-01],\n",
       "       [-2.22444694e+01,  2.39313724e+01],\n",
       "       [-1.17436969e+01, -8.62991201e+00],\n",
       "       [-1.35619758e+01,  2.27112114e+01],\n",
       "       [ 2.37843107e+00,  9.06329824e+00],\n",
       "       [ 1.70639142e+01,  4.80382533e+00],\n",
       "       [-2.72113151e+00, -4.05990964e-01],\n",
       "       [ 8.38924524e+00,  4.05270032e+00],\n",
       "       [-4.29439503e+00,  1.32824883e+01],\n",
       "       [-1.16648003e+01,  1.56619600e+01],\n",
       "       [-5.58673186e+00, -5.26593758e+00],\n",
       "       [-1.51215438e+01, -1.08043802e+01],\n",
       "       [-8.10070924e+00,  1.20427989e+01],\n",
       "       [-1.21365710e+01, -3.48983659e+00],\n",
       "       [ 3.38307770e+00,  2.13490296e+01],\n",
       "       [ 8.98986205e+00,  1.47167936e+01],\n",
       "       [-2.01797030e+01, -3.83905256e+00]])"
      ]
     },
     "execution_count": 73,
     "metadata": {},
     "output_type": "execute_result"
    }
   ],
   "source": [
    "X"
   ]
  },
  {
   "cell_type": "code",
   "execution_count": 74,
   "metadata": {
    "colab": {
     "base_uri": "https://localhost:8080/",
     "height": 303
    },
    "id": "TjSYaC57XUeq",
    "outputId": "d6088ba2-3ad7-4dff-fd25-aaf5b76e44a8",
    "scrolled": true
   },
   "outputs": [
    {
     "data": {
      "text/plain": [
       "<matplotlib.collections.PathCollection at 0x2b9eb019460>"
      ]
     },
     "execution_count": 74,
     "metadata": {},
     "output_type": "execute_result"
    },
    {
     "data": {
      "image/png": "[encoded data removed]",
      "text/plain": [
       "<Figure size 432x288 with 1 Axes>"
      ]
     },
     "metadata": {
      "needs_background": "light"
     },
     "output_type": "display_data"
    }
   ],
   "source": [
    "plt.scatter(X[:, 0], X[:, 1], cmap='autumn', s=60)"
   ]
  },
  {
   "cell_type": "code",
   "execution_count": 75,
   "metadata": {
    "id": "bWdNYOIqzzO-"
   },
   "outputs": [],
   "source": [
    "# приведем данные к единому масштабу\n",
    "from sklearn.preprocessing import StandardScaler"
   ]
  },
  {
   "cell_type": "code",
   "execution_count": 76,
   "metadata": {
    "id": "NzLJH0GBXGwQ"
   },
   "outputs": [],
   "source": [
    "scaler = StandardScaler()"
   ]
  },
  {
   "cell_type": "markdown",
   "metadata": {},
   "source": [
    "В реальных задачах при разделении выборки на train и test нужно обучать StandardScaler только на тренировочных данных (и применять уже к тестовым данным).\n"
   ]
  },
  {
   "cell_type": "code",
   "execution_count": 77,
   "metadata": {
    "id": "6UC4SNUdXIru"
   },
   "outputs": [
    {
     "data": {
      "text/plain": [
       "array([[-2.10535698, -1.60412713],\n",
       "       [ 0.28481776, -1.55793206],\n",
       "       [ 0.05229414,  1.37943089],\n",
       "       [ 0.35727062,  0.69338675],\n",
       "       [ 0.67903408,  1.77120423],\n",
       "       [-2.04666889,  0.7790011 ],\n",
       "       [ 0.34200211,  0.15058201],\n",
       "       [-1.16931995, -0.172726  ],\n",
       "       [ 0.51523863, -0.51462807],\n",
       "       [ 0.94019388,  0.57951374],\n",
       "       [ 2.37309918,  0.6156808 ],\n",
       "       [ 0.42189934,  0.3052237 ],\n",
       "       [-0.40061074,  0.27894771],\n",
       "       [ 1.96533778, -1.16559445],\n",
       "       [-0.99245759,  0.88644002],\n",
       "       [-0.55121022,  0.80263707],\n",
       "       [-0.37061291, -0.17141154],\n",
       "       [-0.12691965,  0.22738925],\n",
       "       [-0.18511447,  0.70852373],\n",
       "       [ 1.13272909, -0.68993495],\n",
       "       [ 0.24799302, -0.74745719],\n",
       "       [-1.32885814,  2.45488181],\n",
       "       [-1.70892891, -0.25916814],\n",
       "       [-0.02689838, -0.28068366],\n",
       "       [ 0.1292067 , -1.33699364],\n",
       "       [ 0.59404042,  2.03659544],\n",
       "       [ 0.71616179,  0.72250217],\n",
       "       [-0.61954743, -0.17135787],\n",
       "       [ 0.27730409,  0.89773029],\n",
       "       [ 1.42148025,  1.12055487],\n",
       "       [-2.11803878, -0.67177374],\n",
       "       [ 0.43559079, -0.63655617],\n",
       "       [ 0.06838382,  0.13045176],\n",
       "       [-2.06100931,  0.70082452],\n",
       "       [-0.12289978,  0.07316223],\n",
       "       [ 1.03616093,  0.75795443],\n",
       "       [ 1.24273285, -2.34192548],\n",
       "       [-0.3030348 ,  0.04983301],\n",
       "       [ 0.17565002,  0.12366921],\n",
       "       [-0.8951105 , -1.41958026],\n",
       "       [-0.98437711,  0.12752968],\n",
       "       [-0.83885311,  0.45377198],\n",
       "       [ 1.44188813, -1.39702485],\n",
       "       [ 1.05385944,  1.2564655 ],\n",
       "       [-0.78031588, -2.91119516],\n",
       "       [-1.25220905, -0.5093156 ],\n",
       "       [-2.40591158, -0.08209231],\n",
       "       [ 0.59551231, -1.28110017],\n",
       "       [ 1.17350232, -0.47508235],\n",
       "       [-0.94858182, -1.13350445],\n",
       "       [ 0.11208483, -0.88740697],\n",
       "       [-1.30025773,  1.71831852],\n",
       "       [ 0.62621891,  0.54468232],\n",
       "       [-0.00951424,  0.1704364 ],\n",
       "       [-1.61262293, -0.4130931 ],\n",
       "       [-0.31026643, -0.38894584],\n",
       "       [-0.68482914, -0.70419034],\n",
       "       [-1.04597715,  1.96663922],\n",
       "       [ 0.07177726, -1.90107044],\n",
       "       [ 1.39587469,  1.23849238],\n",
       "       [-0.52802932, -0.91650522],\n",
       "       [ 1.7976473 , -0.80262324],\n",
       "       [ 1.38019233, -0.4382691 ],\n",
       "       [-0.09323373, -0.77938965],\n",
       "       [ 1.6032011 , -1.71837843],\n",
       "       [ 1.05058667, -1.26818786],\n",
       "       [-0.7736599 ,  2.18080354],\n",
       "       [ 0.85815156, -0.47499978],\n",
       "       [ 0.55978528, -1.92288207],\n",
       "       [ 0.00845573, -0.76704065],\n",
       "       [ 1.13534172, -0.08109828],\n",
       "       [ 0.60888141, -1.31341375],\n",
       "       [-1.28820821,  1.13788972],\n",
       "       [ 0.24754879, -0.12993142],\n",
       "       [ 1.08764939, -0.7160471 ],\n",
       "       [-0.48846747,  0.8639783 ],\n",
       "       [-0.28441226, -0.86333306],\n",
       "       [-0.77591116, -0.30559834],\n",
       "       [ 0.12484851,  1.62845673],\n",
       "       [ 0.42498098,  0.96097356],\n",
       "       [-0.65945391,  0.54689331],\n",
       "       [ 0.35365808,  0.74847775],\n",
       "       [-1.03078123, -2.42661431],\n",
       "       [ 0.56916742, -0.02674009],\n",
       "       [-1.11340717,  1.22287313],\n",
       "       [ 0.13029322,  0.58900442],\n",
       "       [-1.46426239, -1.78090399],\n",
       "       [-0.03295652,  1.28487928],\n",
       "       [ 0.49592982,  1.19007214],\n",
       "       [ 0.23048528, -1.1314187 ],\n",
       "       [ 0.55144338, -0.3756194 ],\n",
       "       [ 1.27498687,  0.69699585],\n",
       "       [ 0.17488774,  0.30101308],\n",
       "       [-0.26643835,  0.4004732 ],\n",
       "       [ 1.24134791,  0.96537437],\n",
       "       [ 0.56529479,  1.34442871],\n",
       "       [ 0.43923849,  0.56978967],\n",
       "       [-0.8114139 , -0.68377281],\n",
       "       [ 1.55088208,  1.44002642],\n",
       "       [-1.47957137, -0.73113564],\n",
       "       [ 0.84788941, -0.98224094],\n",
       "       [-1.02745329, -1.49348554],\n",
       "       [ 1.73561069,  0.51542587],\n",
       "       [ 0.50846741, -0.64339916],\n",
       "       [-1.2295549 , -0.71479744],\n",
       "       [ 0.0703796 ,  0.05437974],\n",
       "       [ 0.68083908,  2.65547612],\n",
       "       [-0.57407532,  0.63650558],\n",
       "       [-0.59691099,  0.40203099],\n",
       "       [-0.23888989,  0.65314031],\n",
       "       [ 1.06462866, -0.08500921],\n",
       "       [ 0.09611448,  0.80837678],\n",
       "       [-0.91894058,  0.98643084],\n",
       "       [ 0.58305682,  0.08697045],\n",
       "       [-0.44899549,  0.15219723],\n",
       "       [ 0.27581379,  0.37734058],\n",
       "       [ 1.31452743, -0.43406741],\n",
       "       [ 0.23111687,  0.4647641 ],\n",
       "       [-1.91003755,  0.86669109],\n",
       "       [ 0.59910487,  0.77257137],\n",
       "       [ 1.14103639,  0.53327742],\n",
       "       [ 0.57429186,  0.41238379],\n",
       "       [ 1.61010077, -0.77317546],\n",
       "       [ 0.49435144,  0.2518491 ],\n",
       "       [ 0.40659842,  1.40912247],\n",
       "       [-1.52431211, -0.48739925],\n",
       "       [ 0.50012089, -0.10475863],\n",
       "       [ 3.12644411,  2.00251859],\n",
       "       [-1.17487354,  2.02532291],\n",
       "       [ 0.06893072,  0.2518755 ],\n",
       "       [ 0.46869503, -3.11530808],\n",
       "       [-0.57781802, -0.64473153],\n",
       "       [-0.68980053, -0.68105456],\n",
       "       [ 0.85898066,  0.05872947],\n",
       "       [-1.30642366, -0.23015097],\n",
       "       [-1.05369212, -0.97383195],\n",
       "       [ 0.3685529 ,  0.28877947],\n",
       "       [-0.96787055, -0.27169356],\n",
       "       [ 0.02671458,  0.43210674],\n",
       "       [ 0.11471209, -0.71462523],\n",
       "       [ 0.17164065,  1.33779854],\n",
       "       [ 1.27845729,  0.31875825],\n",
       "       [-1.22272572, -0.21003968],\n",
       "       [ 0.36844062, -0.94360044],\n",
       "       [ 0.91437609, -0.28812841],\n",
       "       [-1.06593496,  0.11769422],\n",
       "       [ 1.79943302,  0.88297351],\n",
       "       [ 1.83840309,  0.08673007],\n",
       "       [-0.11723948,  1.14216558],\n",
       "       [ 1.29519765, -0.63894199],\n",
       "       [-2.01275249,  0.82856783],\n",
       "       [-0.15685385, -0.22649676],\n",
       "       [ 0.08374037, -0.4283164 ],\n",
       "       [-0.91144818,  1.53532723],\n",
       "       [ 0.21134027, -0.9740951 ],\n",
       "       [ 0.85689059, -0.64528009],\n",
       "       [ 0.31135462, -0.31046034],\n",
       "       [ 0.99041586, -0.95444285],\n",
       "       [-1.08837381,  1.20039705],\n",
       "       [ 0.72027024,  0.94927902],\n",
       "       [-0.06946425,  0.58141552],\n",
       "       [ 2.49222146, -0.29560165],\n",
       "       [-1.96550352, -0.69696262],\n",
       "       [ 0.31430348, -0.00805476],\n",
       "       [ 1.28140529, -0.59604291],\n",
       "       [-1.0806123 ,  0.52388577],\n",
       "       [-0.58386248, -0.65208872],\n",
       "       [-0.5472376 , -1.31844953],\n",
       "       [-1.15563366,  0.69205315],\n",
       "       [-0.28312073,  0.0607167 ],\n",
       "       [ 0.49244015,  0.45058448],\n",
       "       [-1.23184468,  0.22645001],\n",
       "       [-0.00509589,  0.18624071],\n",
       "       [-0.44701823,  0.27628597],\n",
       "       [-0.17318503,  0.16875475],\n",
       "       [ 0.94351062, -1.11356503],\n",
       "       [-1.03911909, -0.58561287],\n",
       "       [ 0.79374969, -1.42349199],\n",
       "       [-0.72442931, -0.86241422],\n",
       "       [ 1.6860538 , -0.50487415],\n",
       "       [-0.21489998, -0.37020693],\n",
       "       [ 0.43606475,  0.29551575],\n",
       "       [-0.70103155,  0.45659925],\n",
       "       [-0.3003961 , -0.74994456],\n",
       "       [-1.68797184,  1.60675588],\n",
       "       [-0.85378389, -1.5209743 ],\n",
       "       [-0.9982291 ,  1.48955121],\n",
       "       [ 0.26808681,  0.17857744],\n",
       "       [ 1.43471079, -0.23057355],\n",
       "       [-0.13702564, -0.73101142],\n",
       "       [ 0.74558966, -0.30272416],\n",
       "       [-0.26200668,  0.583859  ],\n",
       "       [-0.8475163 ,  0.81242325],\n",
       "       [-0.36467073, -1.19784195],\n",
       "       [-1.12212217, -1.72984658],\n",
       "       [-0.56438267,  0.4647785 ],\n",
       "       [-0.88499405, -1.02723551],\n",
       "       [ 0.34789657,  1.3587045 ],\n",
       "       [ 0.79330303,  0.72163366],\n",
       "       [-1.5239455 , -1.06078006]])"
      ]
     },
     "execution_count": 77,
     "metadata": {},
     "output_type": "execute_result"
    }
   ],
   "source": [
    "# fit-transform сразу обучается и преобразует данные\n",
    "X_scaled = scaler.fit_transform(X)\n",
    "X_scaled"
   ]
  },
  {
   "cell_type": "code",
   "execution_count": 78,
   "metadata": {
    "colab": {
     "base_uri": "https://localhost:8080/",
     "height": 304
    },
    "id": "TRnNnC3kXbcr",
    "outputId": "841e1554-c362-4528-c92a-e6c32dd57034"
   },
   "outputs": [
    {
     "data": {
      "text/plain": [
       "<matplotlib.collections.PathCollection at 0x2b9eb074580>"
      ]
     },
     "execution_count": 78,
     "metadata": {},
     "output_type": "execute_result"
    },
    {
     "data": {
      "image/png": "[encoded data removed]",
      "text/plain": [
       "<Figure size 432x288 with 1 Axes>"
      ]
     },
     "metadata": {
      "needs_background": "light"
     },
     "output_type": "display_data"
    }
   ],
   "source": [
    "plt.scatter(X_scaled[:, 0], X_scaled[:, 1],cmap='autumn', s=60)"
   ]
  },
  {
   "cell_type": "code",
   "execution_count": 79,
   "metadata": {
    "id": "XftqUwUlYLIj"
   },
   "outputs": [],
   "source": [
    "from sklearn.cluster import KMeans"
   ]
  },
  {
   "cell_type": "code",
   "execution_count": 93,
   "metadata": {
    "colab": {
     "base_uri": "https://localhost:8080/",
     "height": 213
    },
    "id": "7PkhGAB-YN1C",
    "outputId": "443f3bc6-6768-44ec-a167-a4f535a10366"
   },
   "outputs": [
    {
     "data": {
      "text/plain": [
       "array([0, 1, 1, 1, 1, 0, 1, 0, 1, 1, 1, 1, 0, 1, 0, 0, 0, 0, 0, 1, 1, 0,\n",
       "       0, 1, 1, 1, 1, 0, 1, 1, 0, 1, 1, 0, 0, 1, 1, 0, 1, 0, 0, 0, 1, 1,\n",
       "       0, 0, 0, 1, 1, 0, 1, 0, 1, 1, 0, 0, 0, 0, 1, 1, 0, 1, 1, 0, 1, 1,\n",
       "       0, 1, 1, 1, 1, 1, 0, 1, 1, 0, 0, 0, 1, 1, 0, 1, 0, 1, 0, 1, 0, 1,\n",
       "       1, 1, 1, 1, 1, 0, 1, 1, 1, 0, 1, 0, 1, 0, 1, 1, 0, 1, 1, 0, 0, 0,\n",
       "       1, 1, 0, 1, 0, 1, 1, 1, 0, 1, 1, 1, 1, 1, 1, 0, 1, 1, 0, 1, 1, 0,\n",
       "       0, 1, 0, 0, 1, 0, 1, 1, 1, 1, 0, 1, 1, 0, 1, 1, 1, 1, 0, 0, 1, 0,\n",
       "       1, 1, 1, 1, 0, 1, 1, 1, 0, 1, 1, 0, 0, 0, 0, 0, 1, 0, 1, 0, 0, 1,\n",
       "       0, 1, 0, 1, 0, 1, 0, 0, 0, 0, 0, 1, 1, 0, 1, 0, 0, 0, 0, 0, 0, 1,\n",
       "       1, 0])"
      ]
     },
     "execution_count": 93,
     "metadata": {},
     "output_type": "execute_result"
    }
   ],
   "source": [
    "# явно указываем количество кластеров\n",
    "kmeans = KMeans(n_clusters=2)\n",
    "# fit_predict обучается на данных и каждому объекту присваивает кластер\n",
    "clusters = kmeans.fit_predict(X_scaled)\n",
    "clusters"
   ]
  },
  {
   "cell_type": "code",
   "execution_count": 94,
   "metadata": {
    "colab": {
     "base_uri": "https://localhost:8080/",
     "height": 304
    },
    "id": "EIhtpQU4YXiR",
    "outputId": "8b3fdd98-c53f-4afe-d853-504bbcbf4315"
   },
   "outputs": [
    {
     "data": {
      "text/plain": [
       "<matplotlib.collections.PathCollection at 0x2b9eb1a4bb0>"
      ]
     },
     "execution_count": 94,
     "metadata": {},
     "output_type": "execute_result"
    },
    {
     "data": {
      "image/png": "[encoded data removed]",
      "text/plain": [
       "<Figure size 432x288 with 1 Axes>"
      ]
     },
     "metadata": {
      "needs_background": "light"
     },
     "output_type": "display_data"
    }
   ],
   "source": [
    "plt.scatter(X_scaled[:, 0], X_scaled[:, 1], cmap='autumn', c=clusters, s=60)"
   ]
  },
  {
   "cell_type": "code",
   "execution_count": 82,
   "metadata": {
    "id": "JakzZ_1WYbgI"
   },
   "outputs": [
    {
     "name": "stderr",
     "output_type": "stream",
     "text": [
      "C:\\Users\\PC\\AppData\\Roaming\\Python\\Python38\\site-packages\\sklearn\\cluster\\_kmeans.py:881: UserWarning: KMeans is known to have a memory leak on Windows with MKL, when there are less chunks than available threads. You can avoid it by setting the environment variable OMP_NUM_THREADS=1.\n",
      "  warnings.warn(\n"
     ]
    }
   ],
   "source": [
    "# строим график локтя\n",
    "\n",
    "# создаем список для инерции\n",
    "k_inertia = []\n",
    "# задаем диапазон кластеров\n",
    "ks = range(1, 20)\n",
    "\n",
    "for k in ks:\n",
    "    clf_kmeans = KMeans(n_clusters=k)\n",
    "    clusters_kmeans = clf_kmeans.fit_predict(X_scaled)\n",
    "    # добавляем инерцию каждой модели в список\n",
    "    k_inertia.append(clf_kmeans.inertia_)"
   ]
  },
  {
   "cell_type": "code",
   "execution_count": 83,
   "metadata": {
    "colab": {
     "base_uri": "https://localhost:8080/",
     "height": 303
    },
    "id": "BL2K84DOYzQp",
    "outputId": "02019f5b-36bd-4dc6-df76-d5a4fcebfcea"
   },
   "outputs": [
    {
     "data": {
      "text/plain": [
       "[<matplotlib.lines.Line2D at 0x2b9e9ef08b0>]"
      ]
     },
     "execution_count": 83,
     "metadata": {},
     "output_type": "execute_result"
    },
    {
     "data": {
      "image/png": "[encoded data removed]",
      "text/plain": [
       "<Figure size 432x288 with 1 Axes>"
      ]
     },
     "metadata": {
      "needs_background": "light"
     },
     "output_type": "display_data"
    }
   ],
   "source": [
    "plt.plot(ks, k_inertia)\n",
    "plt.plot(ks, k_inertia ,'ro')"
   ]
  },
  {
   "cell_type": "markdown",
   "metadata": {},
   "source": [
    "Иерархическая кластеризация"
   ]
  },
  {
   "cell_type": "code",
   "execution_count": 86,
   "metadata": {
    "id": "wGWt37snY1ak"
   },
   "outputs": [],
   "source": [
    "from scipy.spatial.distance import pdist\n",
    "from scipy.cluster import hierarchy"
   ]
  },
  {
   "cell_type": "code",
   "execution_count": 89,
   "metadata": {
    "colab": {
     "base_uri": "https://localhost:8080/",
     "height": 419
    },
    "id": "UL2QOOH_Y8vL",
    "outputId": "128d6635-2497-4aca-b0a3-eef8faf29cd5"
   },
   "outputs": [
    {
     "data": {
      "image/png": "[encoded data removed]",
      "text/plain": [
       "<Figure size 1440x648 with 1 Axes>"
      ]
     },
     "metadata": {
      "needs_background": "light"
     },
     "output_type": "display_data"
    }
   ],
   "source": [
    "# строим дендрограмму\n",
    "distance_mat = pdist(X_scaled) # pdist посчитает нам матрицу попарных расстояний между точками\n",
    "# Z = hierarchy.linkage(distance_mat) # linkage — реализация агломеративного алгоритма\n",
    "Z = hierarchy.linkage(distance_mat, 'ward')\n",
    "plt.figure(figsize=(20, 9))\n",
    "dn = hierarchy.dendrogram(Z)"
   ]
  },
  {
   "cell_type": "code",
   "execution_count": 90,
   "metadata": {
    "id": "K_0ejaBzZBIv"
   },
   "outputs": [],
   "source": [
    "# делаем уже кластеризацию по факту\n",
    "from sklearn.cluster import AgglomerativeClustering"
   ]
  },
  {
   "cell_type": "code",
   "execution_count": 91,
   "metadata": {
    "colab": {
     "base_uri": "https://localhost:8080/",
     "height": 213
    },
    "id": "wjEgXrmpZVrY",
    "outputId": "74b5fccd-49ed-43e1-d1e6-aa50449bc4b7"
   },
   "outputs": [
    {
     "data": {
      "text/plain": [
       "array([0, 0, 1, 1, 1, 1, 1, 0, 0, 1, 1, 1, 1, 0, 1, 1, 0, 1, 1, 0, 0, 1,\n",
       "       0, 0, 0, 1, 1, 0, 1, 1, 0, 0, 1, 1, 1, 1, 0, 1, 1, 0, 0, 1, 0, 1,\n",
       "       0, 0, 0, 0, 0, 0, 0, 1, 1, 1, 0, 0, 0, 1, 0, 1, 0, 0, 0, 0, 0, 0,\n",
       "       1, 0, 0, 0, 0, 0, 1, 1, 0, 1, 0, 0, 1, 1, 1, 1, 0, 1, 1, 1, 0, 1,\n",
       "       1, 0, 0, 1, 1, 1, 1, 1, 1, 0, 1, 0, 0, 0, 1, 0, 0, 1, 1, 1, 1, 1,\n",
       "       0, 1, 1, 1, 1, 1, 0, 1, 1, 1, 1, 1, 0, 1, 1, 0, 1, 1, 1, 1, 0, 0,\n",
       "       0, 0, 0, 0, 1, 0, 1, 0, 1, 1, 0, 0, 0, 0, 1, 1, 1, 0, 1, 0, 0, 1,\n",
       "       0, 0, 0, 0, 1, 1, 1, 0, 0, 1, 0, 1, 0, 0, 1, 1, 1, 0, 1, 1, 1, 0,\n",
       "       0, 0, 0, 0, 0, 1, 1, 0, 1, 0, 1, 1, 0, 0, 0, 1, 1, 0, 0, 1, 0, 1,\n",
       "       1, 0], dtype=int64)"
      ]
     },
     "execution_count": 91,
     "metadata": {},
     "output_type": "execute_result"
    }
   ],
   "source": [
    "aglo = AgglomerativeClustering(n_clusters=2)\n",
    "clusters = aglo.fit_predict(X_scaled)\n",
    "clusters"
   ]
  },
  {
   "cell_type": "code",
   "execution_count": 92,
   "metadata": {
    "colab": {
     "base_uri": "https://localhost:8080/",
     "height": 304
    },
    "id": "Us0SDSD1ZtX7",
    "outputId": "1a822df2-0e99-4b3c-84c2-4e95bbf0f775"
   },
   "outputs": [
    {
     "data": {
      "text/plain": [
       "<matplotlib.collections.PathCollection at 0x2b9eb0915e0>"
      ]
     },
     "execution_count": 92,
     "metadata": {},
     "output_type": "execute_result"
    },
    {
     "data": {
      "image/png": "[encoded data removed]",
      "text/plain": [
       "<Figure size 432x288 with 1 Axes>"
      ]
     },
     "metadata": {
      "needs_background": "light"
     },
     "output_type": "display_data"
    }
   ],
   "source": [
    "plt.scatter(X_scaled[:, 0], X_scaled[:, 1],cmap='autumn', c=clusters, s=60)"
   ]
  },
  {
   "cell_type": "code",
   "execution_count": 95,
   "metadata": {
    "id": "tPUIlJOaZv5J"
   },
   "outputs": [
    {
     "data": {
      "text/html": [
       "<div>\n",
       "<style scoped>\n",
       "    .dataframe tbody tr th:only-of-type {\n",
       "        vertical-align: middle;\n",
       "    }\n",
       "\n",
       "    .dataframe tbody tr th {\n",
       "        vertical-align: top;\n",
       "    }\n",
       "\n",
       "    .dataframe thead th {\n",
       "        text-align: right;\n",
       "    }\n",
       "</style>\n",
       "<table border=\"1\" class=\"dataframe\">\n",
       "  <thead>\n",
       "    <tr style=\"text-align: right;\">\n",
       "      <th></th>\n",
       "      <th>0</th>\n",
       "      <th>1</th>\n",
       "      <th>y_hat</th>\n",
       "    </tr>\n",
       "  </thead>\n",
       "  <tbody>\n",
       "    <tr>\n",
       "      <th>0</th>\n",
       "      <td>-27.498521</td>\n",
       "      <td>-9.495576</td>\n",
       "      <td>0</td>\n",
       "    </tr>\n",
       "    <tr>\n",
       "      <th>1</th>\n",
       "      <td>2.589041</td>\n",
       "      <td>-9.014661</td>\n",
       "      <td>1</td>\n",
       "    </tr>\n",
       "    <tr>\n",
       "      <th>2</th>\n",
       "      <td>-0.337971</td>\n",
       "      <td>21.564802</td>\n",
       "      <td>1</td>\n",
       "    </tr>\n",
       "    <tr>\n",
       "      <th>3</th>\n",
       "      <td>3.501078</td>\n",
       "      <td>14.422729</td>\n",
       "      <td>1</td>\n",
       "    </tr>\n",
       "    <tr>\n",
       "      <th>4</th>\n",
       "      <td>7.551442</td>\n",
       "      <td>25.643364</td>\n",
       "      <td>1</td>\n",
       "    </tr>\n",
       "    <tr>\n",
       "      <th>...</th>\n",
       "      <td>...</td>\n",
       "      <td>...</td>\n",
       "      <td>...</td>\n",
       "    </tr>\n",
       "    <tr>\n",
       "      <th>195</th>\n",
       "      <td>-8.100709</td>\n",
       "      <td>12.042799</td>\n",
       "      <td>0</td>\n",
       "    </tr>\n",
       "    <tr>\n",
       "      <th>196</th>\n",
       "      <td>-12.136571</td>\n",
       "      <td>-3.489837</td>\n",
       "      <td>0</td>\n",
       "    </tr>\n",
       "    <tr>\n",
       "      <th>197</th>\n",
       "      <td>3.383078</td>\n",
       "      <td>21.349030</td>\n",
       "      <td>1</td>\n",
       "    </tr>\n",
       "    <tr>\n",
       "      <th>198</th>\n",
       "      <td>8.989862</td>\n",
       "      <td>14.716794</td>\n",
       "      <td>1</td>\n",
       "    </tr>\n",
       "    <tr>\n",
       "      <th>199</th>\n",
       "      <td>-20.179703</td>\n",
       "      <td>-3.839053</td>\n",
       "      <td>0</td>\n",
       "    </tr>\n",
       "  </tbody>\n",
       "</table>\n",
       "<p>200 rows × 3 columns</p>\n",
       "</div>"
      ],
      "text/plain": [
       "             0          1  y_hat\n",
       "0   -27.498521  -9.495576      0\n",
       "1     2.589041  -9.014661      1\n",
       "2    -0.337971  21.564802      1\n",
       "3     3.501078  14.422729      1\n",
       "4     7.551442  25.643364      1\n",
       "..         ...        ...    ...\n",
       "195  -8.100709  12.042799      0\n",
       "196 -12.136571  -3.489837      0\n",
       "197   3.383078  21.349030      1\n",
       "198   8.989862  14.716794      1\n",
       "199 -20.179703  -3.839053      0\n",
       "\n",
       "[200 rows x 3 columns]"
      ]
     },
     "execution_count": 95,
     "metadata": {},
     "output_type": "execute_result"
    }
   ],
   "source": [
    "df = pd.DataFrame(X)\n",
    "df['y_hat'] = clusters\n",
    "df"
   ]
  },
  {
   "cell_type": "code",
   "execution_count": null,
   "metadata": {},
   "outputs": [],
   "source": []
  }
 ],
 "metadata": {
  "colab": {
   "collapsed_sections": [],
   "name": "Лекция 5.ipynb",
   "provenance": []
  },
  "kernelspec": {
   "display_name": "Python 3",
   "language": "python",
   "name": "python3"
  },
  "language_info": {
   "codemirror_mode": {
    "name": "ipython",
    "version": 3
   },
   "file_extension": ".py",
   "mimetype": "text/x-python",
   "name": "python",
   "nbconvert_exporter": "python",
   "pygments_lexer": "ipython3",
   "version": "3.7.6"
  }
 },
 "nbformat": 4,
 "nbformat_minor": 1
}
