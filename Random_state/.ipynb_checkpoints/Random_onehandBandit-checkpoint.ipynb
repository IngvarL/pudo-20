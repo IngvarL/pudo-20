{
 "cells": [
  {
   "cell_type": "markdown",
   "metadata": {},
   "source": [
    "### Домашнее задание к лекции \"Случайные величины\"\n",
    "http://prntscr.com/uh35yg\n",
    "\n",
    "Смоделировать игру против лотерейного автомата типа “777”. Игрок платит 1 руб., после чего выпадает случайное целое число, равномерно распределенное от 0 до 999. При некоторых значениях числа игрок получает выигрыш (см. справа)\n",
    "\n",
    "Выгодна ли игра игроку?\n",
    "\n",
    "Сколько в среднем приобретает\n",
    "или теряет игрок за одну игру?\n",
    "\n",
    "- 777: 200 руб.\n",
    "- 999: 100 руб.\n",
    "- 555: 50 руб.\n",
    "- 333: 15 руб.\n",
    "- 111: 10 руб.\n",
    "- *77: 5 руб.\n",
    "- **7: 3 руб.\n",
    "- *00: 2 руб.\n",
    "- **0: 1 руб.\n",
    "\n",
    "'*' любая цифра\n",
    "\n",
    "Дополнительное задание повышенной сложности. Теоретически рассчитать средний выигрыш (проигрыш) и сравнить с результатами моделирования"
   ]
  },
  {
   "cell_type": "code",
   "execution_count": 51,
   "metadata": {},
   "outputs": [],
   "source": [
    "import numpy as np\n",
    "import pandas as pd"
   ]
  },
  {
   "cell_type": "code",
   "execution_count": 41,
   "metadata": {},
   "outputs": [],
   "source": [
    "def check_prizes(g):\n",
    "    if g == 777:\n",
    "        return 200\n",
    "    if g == 999:\n",
    "        return 100\n",
    "    if g == 555:\n",
    "        return 50\n",
    "    if g == 333:\n",
    "        return 15\n",
    "    if g == 111:\n",
    "        return 10\n",
    "    if (g-77) % 100 == 0:\n",
    "        return 5\n",
    "    if (g-7) % 10 == 0:\n",
    "        return 3\n",
    "    if g % 100 == 0:\n",
    "        return 2\n",
    "    if g % 10 == 0:\n",
    "        return 1\n",
    "    return 0"
   ]
  },
  {
   "cell_type": "code",
   "execution_count": null,
   "metadata": {},
   "outputs": [],
   "source": [
    "#def game_bandit"
   ]
  },
  {
   "cell_type": "code",
   "execution_count": 63,
   "metadata": {},
   "outputs": [
    {
     "name": "stdout",
     "output_type": "stream",
     "text": [
      "Loss   -248.9618\n",
      "Find    198.9618\n",
      "dtype: float64\n"
     ]
    }
   ],
   "source": [
    "#cash = 50\n",
    "#loss,find = [0,0]\n",
    "test = 100000\n",
    "df = []\n",
    "\n",
    "for i in range(test):\n",
    "    cash = 50\n",
    "    loss,find = [0,0]\n",
    "    while cash > 0:\n",
    "        cash -= 1    \n",
    "        x = np.random.randint(0,1000)    \n",
    "        cash += check_prizes(x)    \n",
    "        #print(x,check_prizes(x),cash)\n",
    "        loss -= 1\n",
    "        find += check_prizes(x)\n",
    "\n",
    "    #print('Game Over')\n",
    "    #print(loss,find)\n",
    "    df.append([loss,find])\n",
    "\n",
    "i = pd.DataFrame(df,columns = ('Loss','Find'))\n",
    "print(i.mean())"
   ]
  },
  {
   "cell_type": "markdown",
   "metadata": {},
   "source": [
    "1. Игра не выгодна игроку на 100тыс. игр при старте с 50 рублях  в среднем получаем 199 р. теряем 249 рублей. Т.е. рано или поздно игра заканчивается пройгрышем всех денег.\n",
    "2. В среднем игрок теряет 249 рублей за игру при старте с 50 рублями. Приобретает 199 рублей."
   ]
  },
  {
   "cell_type": "markdown",
   "metadata": {},
   "source": [
    "Если расчитать шансы на выйгрышь:\n",
    "0,1% выйграть 200,150,100, 50, рублей...\n"
   ]
  },
  {
   "cell_type": "code",
   "execution_count": 65,
   "metadata": {},
   "outputs": [
    {
     "data": {
      "text/plain": [
       "0.10010010010010009"
      ]
     },
     "execution_count": 65,
     "metadata": {},
     "output_type": "execute_result"
    }
   ],
   "source": [
    "1/999*100"
   ]
  },
  {
   "cell_type": "code",
   "execution_count": null,
   "metadata": {},
   "outputs": [],
   "source": []
  }
 ],
 "metadata": {
  "kernelspec": {
   "display_name": "Python 3",
   "language": "python",
   "name": "python3"
  },
  "language_info": {
   "codemirror_mode": {
    "name": "ipython",
    "version": 3
   },
   "file_extension": ".py",
   "mimetype": "text/x-python",
   "name": "python",
   "nbconvert_exporter": "python",
   "pygments_lexer": "ipython3",
   "version": "3.7.6"
  }
 },
 "nbformat": 4,
 "nbformat_minor": 4
}
