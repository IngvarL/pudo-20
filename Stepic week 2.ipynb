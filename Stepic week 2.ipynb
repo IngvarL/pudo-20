{
 "cells": [
  {
   "cell_type": "code",
   "execution_count": 64,
   "metadata": {},
   "outputs": [
    {
     "name": "stdout",
     "output_type": "stream",
     "text": [
      "aaabbccc\n",
      "a3b2c3\n"
     ]
    }
   ],
   "source": [
    "### Архивация строки, задача для STEPIC\n",
    "s = input()\n",
    "r = ''\n",
    "t = ''\n",
    "i = 0\n",
    "\n",
    "for n,i in enumerate(s):    \n",
    "    t += i\n",
    "    if i not in t[0]:        \n",
    "        r += t[0]+str(len(t[:-1]))\n",
    "        t = i\n",
    "r += t[0]+str(len(t))\n",
    "print(r)"
   ]
  },
  {
   "cell_type": "code",
   "execution_count": 10,
   "metadata": {},
   "outputs": [
    {
     "name": "stdout",
     "output_type": "stream",
     "text": [
      "1 2 3\n",
      "6\n"
     ]
    }
   ],
   "source": [
    "a = [int(i) for i in input().split()]\n",
    "print(sum(a))"
   ]
  },
  {
   "cell_type": "code",
   "execution_count": 28,
   "metadata": {},
   "outputs": [
    {
     "name": "stdout",
     "output_type": "stream",
     "text": [
      "1 2 3 4\n",
      "0 1\n",
      "1 2\n",
      "2 3\n",
      "3 4\n",
      "6 4 6 4 "
     ]
    }
   ],
   "source": [
    "a = [int(i) for i in input().split()]\n",
    "b = []\n",
    "for i,n in enumerate(a):    \n",
    "    if len(a) == 1:\n",
    "        print(n)\n",
    "        break\n",
    "    if i == 0:\n",
    "        b.append(a[i+1]+a[-1])\n",
    "    elif i == len(a)-1:\n",
    "        b.append(a[i-1]+a[0])\n",
    "    else:\n",
    "        b.append(a[i-1]+a[i+1])\n",
    "for i in b:\n",
    "    print(i,end=' ')"
   ]
  },
  {
   "cell_type": "markdown",
   "metadata": {},
   "source": [
    "Напишите программу, которая принимает на вход список чисел в одной строке и выводит на экран в одну строку значения, которые встречаются в нём более одного раза.\n",
    "\n",
    "Для решения задачи может пригодиться метод sort списка.\n",
    "\n",
    "Выводимые числа не должны повторяться, порядок их вывода может быть произвольным."
   ]
  },
  {
   "cell_type": "code",
   "execution_count": 30,
   "metadata": {},
   "outputs": [
    {
     "name": "stdout",
     "output_type": "stream",
     "text": [
      "1 2 3 4 4 3\n",
      "3 4 "
     ]
    }
   ],
   "source": [
    "a = [int(i) for i in input().split()]\n",
    "r = []\n",
    "for i in a:\n",
    "    if a.count(i)>1:\n",
    "        if i not in r:\n",
    "            r.append(i)    \n",
    "for i in r:\n",
    "    print(i,end=' ')"
   ]
  },
  {
   "cell_type": "markdown",
   "metadata": {},
   "source": [
    "Напишите программу, которая считывает список чисел lstlst из первой строки и число xx из второй строки, которая выводит все позиции, на которых встречается число xx в переданном списке lstlst.\n",
    "\n",
    "Позиции нумеруются с нуля, если число xx не встречается в списке, вывести строку \"Отсутствует\" (без кавычек, с большой буквы).\n",
    "Позиции должны быть выведены в одну строку, по возрастанию абсолютного значения.\n",
    "\n",
    "Sample Input 1:\n",
    "5 8 2 7 8 8 2 4\n",
    "8\n",
    "Sample Output 1:\n",
    "1 4 5\n",
    "\n",
    "Sample Input 2:\n",
    "5 8 2 7 8 8 2 4\n",
    "10\n",
    "Sample Output 2:\n",
    "Отсутствует"
   ]
  },
  {
   "cell_type": "code",
   "execution_count": 6,
   "metadata": {},
   "outputs": [
    {
     "name": "stdout",
     "output_type": "stream",
     "text": [
      "1 2\n",
      "5\n",
      "Отсуствует\n"
     ]
    }
   ],
   "source": [
    "lst = [int(i) for i in input().split()]\n",
    "n = int(input())\n",
    "pos = []\n",
    "\n",
    "for i, num in enumerate(lst):\n",
    "    if n == num:\n",
    "        pos.append(i)        \n",
    "if pos == []:\n",
    "    print('Отсуствует')\n",
    "for i in pos:\n",
    "    print(i,end=' ')"
   ]
  },
  {
   "cell_type": "markdown",
   "metadata": {},
   "source": [
    "Напишите программу, которая считывает с консоли числа (по одному в строке) до тех пор, пока сумма введённых чисел не будет равна 0 и сразу после этого выводит сумму квадратов всех считанных чисел.\n",
    "\n",
    "Гарантируется, что в какой-то момент сумма введённых чисел окажется равной 0, после этого считывание продолжать не нужно.\n",
    "\n",
    "В примере мы считываем числа 1, -3, 5, -6, -10, 13; в этот момент замечаем, что сумма этих чисел равна нулю и выводим сумму их квадратов, не обращая внимания на то, что остались ещё не прочитанные значения.﻿\n",
    "\n",
    "Sample Input:\n",
    "\n",
    "1\n",
    "-3\n",
    "5\n",
    "-6\n",
    "-10\n",
    "13\n",
    "4\n",
    "-8\n",
    "Sample Output:\n",
    "\n",
    "340"
   ]
  },
  {
   "cell_type": "code",
   "execution_count": 29,
   "metadata": {},
   "outputs": [
    {
     "name": "stdout",
     "output_type": "stream",
     "text": [
      "1\n",
      "2\n",
      "3\n",
      "-6\n",
      "50\n"
     ]
    }
   ],
   "source": [
    "num_list = [1]\n",
    "i = 0\n",
    "res = 0\n",
    "while sum(num_list) != 0:\n",
    "    if i == 0:\n",
    "        num_list = []\n",
    "    i += 1\n",
    "    n = int(input())\n",
    "    num_list.append(n)\n",
    "for i in num_list:\n",
    "    res += i**2\n",
    "print(res)"
   ]
  },
  {
   "cell_type": "markdown",
   "metadata": {},
   "source": [
    "Напишите программу, которая выводит часть последовательности 1 2 2 3 3 3 4 4 4 4 5 5 5 5 5 ... (число повторяется столько раз, чему равно). На вход программе передаётся неотрицательное целое число n — столько элементов последовательности должна отобразить программа. На выходе ожидается последовательность чисел, записанных через пробел в одну строку.\n",
    "\n",
    "Например, если n = 7, то программа должна вывести 1 2 2 3 3 3 4."
   ]
  },
  {
   "cell_type": "code",
   "execution_count": 55,
   "metadata": {},
   "outputs": [
    {
     "name": "stdout",
     "output_type": "stream",
     "text": [
      "7\n",
      "1 2 2 3 3 3 4\n"
     ]
    }
   ],
   "source": [
    "n = int(input())\n",
    "l = []\n",
    "t = 0\n",
    "for i in range(n+1):\n",
    "    for j in range(i):\n",
    "        l.append(i)\n",
    "        t += 1\n",
    "        if t == n:\n",
    "            break\n",
    "    if t == n:\n",
    "        break\n",
    "print(*l)"
   ]
  },
  {
   "cell_type": "markdown",
   "metadata": {},
   "source": [
    "Напишите программу, на вход которой подаётся прямоугольная матрица в виде последовательности строк. После последней строки матрицы идёт строка, содержащая только строку \"end\" (без кавычек, см. Sample Input).\n",
    "\n",
    "Программа должна вывести матрицу того же размера, у которой каждый элемент в позиции i, j равен сумме элементов первой матрицы на позициях (i-1, j), (i+1, j), (i, j-1), (i, j+1). У крайних символов соседний элемент находится с противоположной стороны матрицы.\n",
    "\n",
    "В случае одной строки/столбца элемент сам себе является соседом по соответствующему направлению.\n",
    "\n",
    "9 5 3\n",
    "0 7 -1\n",
    "-5 2 9\n",
    "end"
   ]
  },
  {
   "cell_type": "code",
   "execution_count": 110,
   "metadata": {},
   "outputs": [
    {
     "name": "stdout",
     "output_type": "stream",
     "text": [
      "1\n",
      "2\n",
      "3\n",
      "end\n"
     ]
    }
   ],
   "source": [
    "lst = []\n",
    "mtrx = []\n",
    "t_mtrx = []\n",
    "while lst != 'end':    \n",
    "    lst = [i for i in input().split()]\n",
    "    if 'end' in lst:\n",
    "        break    \n",
    "    if len(mtrx) != 0:\n",
    "        if len(lst) != len(mtrx[0]):\n",
    "            continue\n",
    "    for i in lst:\n",
    "        t_mtrx.append(int(i))\n",
    "    mtrx.append(t_mtrx)\n",
    "    t_mtrx = []\n",
    "new_mtrx = [[0 for j in range(len(mtrx[0]))] for i in range(len(mtrx))]"
   ]
  },
  {
   "cell_type": "code",
   "execution_count": 113,
   "metadata": {},
   "outputs": [
    {
     "ename": "IndexError",
     "evalue": "list index out of range",
     "output_type": "error",
     "traceback": [
      "\u001b[1;31m---------------------------------------------------------------------------\u001b[0m",
      "\u001b[1;31mIndexError\u001b[0m                                Traceback (most recent call last)",
      "\u001b[1;32m<ipython-input-113-caa602ca1e0e>\u001b[0m in \u001b[0;36m<module>\u001b[1;34m\u001b[0m\n\u001b[0;32m     20\u001b[0m             \u001b[0mnew_mtrx\u001b[0m\u001b[1;33m[\u001b[0m\u001b[0mi\u001b[0m\u001b[1;33m]\u001b[0m\u001b[1;33m[\u001b[0m\u001b[0mj\u001b[0m\u001b[1;33m]\u001b[0m \u001b[1;33m=\u001b[0m \u001b[0mmtrx\u001b[0m\u001b[1;33m[\u001b[0m\u001b[0mli\u001b[0m\u001b[1;33m-\u001b[0m\u001b[0mi\u001b[0m\u001b[1;33m]\u001b[0m\u001b[1;33m[\u001b[0m\u001b[0mj\u001b[0m\u001b[1;33m]\u001b[0m\u001b[1;33m+\u001b[0m\u001b[0mmtrx\u001b[0m\u001b[1;33m[\u001b[0m\u001b[0mi\u001b[0m\u001b[1;33m-\u001b[0m\u001b[1;36m1\u001b[0m\u001b[1;33m]\u001b[0m\u001b[1;33m[\u001b[0m\u001b[0mj\u001b[0m\u001b[1;33m]\u001b[0m\u001b[1;33m+\u001b[0m\u001b[0mmtrx\u001b[0m\u001b[1;33m[\u001b[0m\u001b[0mi\u001b[0m\u001b[1;33m]\u001b[0m\u001b[1;33m[\u001b[0m\u001b[0mj\u001b[0m\u001b[1;33m+\u001b[0m\u001b[1;36m1\u001b[0m\u001b[1;33m]\u001b[0m\u001b[1;33m+\u001b[0m\u001b[0mmtrx\u001b[0m\u001b[1;33m[\u001b[0m\u001b[0mi\u001b[0m\u001b[1;33m]\u001b[0m\u001b[1;33m[\u001b[0m\u001b[0mlj\u001b[0m\u001b[1;33m]\u001b[0m\u001b[1;33m\u001b[0m\u001b[1;33m\u001b[0m\u001b[0m\n\u001b[0;32m     21\u001b[0m         \u001b[1;32melif\u001b[0m \u001b[0mj\u001b[0m \u001b[1;33m==\u001b[0m \u001b[1;36m0\u001b[0m\u001b[1;33m:\u001b[0m\u001b[1;33m\u001b[0m\u001b[1;33m\u001b[0m\u001b[0m\n\u001b[1;32m---> 22\u001b[1;33m             \u001b[0mnew_mtrx\u001b[0m\u001b[1;33m[\u001b[0m\u001b[0mi\u001b[0m\u001b[1;33m]\u001b[0m\u001b[1;33m[\u001b[0m\u001b[0mj\u001b[0m\u001b[1;33m]\u001b[0m \u001b[1;33m=\u001b[0m \u001b[0mmtrx\u001b[0m\u001b[1;33m[\u001b[0m\u001b[0mi\u001b[0m\u001b[1;33m+\u001b[0m\u001b[1;36m1\u001b[0m\u001b[1;33m]\u001b[0m\u001b[1;33m[\u001b[0m\u001b[0mj\u001b[0m\u001b[1;33m]\u001b[0m\u001b[1;33m+\u001b[0m\u001b[0mmtrx\u001b[0m\u001b[1;33m[\u001b[0m\u001b[0mi\u001b[0m\u001b[1;33m-\u001b[0m\u001b[1;36m1\u001b[0m\u001b[1;33m]\u001b[0m\u001b[1;33m[\u001b[0m\u001b[0mj\u001b[0m\u001b[1;33m]\u001b[0m\u001b[1;33m+\u001b[0m\u001b[0mmtrx\u001b[0m\u001b[1;33m[\u001b[0m\u001b[0mi\u001b[0m\u001b[1;33m]\u001b[0m\u001b[1;33m[\u001b[0m\u001b[0mj\u001b[0m\u001b[1;33m+\u001b[0m\u001b[1;36m1\u001b[0m\u001b[1;33m]\u001b[0m\u001b[1;33m+\u001b[0m\u001b[0mmtrx\u001b[0m\u001b[1;33m[\u001b[0m\u001b[0mi\u001b[0m\u001b[1;33m]\u001b[0m\u001b[1;33m[\u001b[0m\u001b[0mlj\u001b[0m\u001b[1;33m]\u001b[0m\u001b[1;33m\u001b[0m\u001b[1;33m\u001b[0m\u001b[0m\n\u001b[0m\u001b[0;32m     23\u001b[0m         \u001b[1;32melif\u001b[0m \u001b[0mi\u001b[0m \u001b[1;33m==\u001b[0m \u001b[0mli\u001b[0m \u001b[1;32mand\u001b[0m \u001b[0mj\u001b[0m \u001b[1;33m==\u001b[0m \u001b[0mlj\u001b[0m\u001b[1;33m:\u001b[0m\u001b[1;31m#Правило для последней строки матрицы\u001b[0m\u001b[1;33m\u001b[0m\u001b[1;33m\u001b[0m\u001b[0m\n\u001b[0;32m     24\u001b[0m             \u001b[0mnew_mtrx\u001b[0m\u001b[1;33m[\u001b[0m\u001b[0mi\u001b[0m\u001b[1;33m]\u001b[0m\u001b[1;33m[\u001b[0m\u001b[0mj\u001b[0m\u001b[1;33m]\u001b[0m \u001b[1;33m=\u001b[0m \u001b[0mmtrx\u001b[0m\u001b[1;33m[\u001b[0m\u001b[0mi\u001b[0m\u001b[1;33m-\u001b[0m\u001b[1;36m1\u001b[0m\u001b[1;33m]\u001b[0m\u001b[1;33m[\u001b[0m\u001b[0mj\u001b[0m\u001b[1;33m]\u001b[0m\u001b[1;33m+\u001b[0m\u001b[0mmtrx\u001b[0m\u001b[1;33m[\u001b[0m\u001b[0mi\u001b[0m\u001b[1;33m]\u001b[0m\u001b[1;33m[\u001b[0m\u001b[0mj\u001b[0m\u001b[1;33m-\u001b[0m\u001b[1;36m1\u001b[0m\u001b[1;33m]\u001b[0m\u001b[1;33m+\u001b[0m\u001b[0mmtrx\u001b[0m\u001b[1;33m[\u001b[0m\u001b[0mli\u001b[0m\u001b[1;33m-\u001b[0m\u001b[0mi\u001b[0m\u001b[1;33m]\u001b[0m\u001b[1;33m[\u001b[0m\u001b[0mj\u001b[0m\u001b[1;33m]\u001b[0m\u001b[1;33m+\u001b[0m\u001b[0mmtrx\u001b[0m\u001b[1;33m[\u001b[0m\u001b[0mi\u001b[0m\u001b[1;33m]\u001b[0m\u001b[1;33m[\u001b[0m\u001b[0mlj\u001b[0m\u001b[1;33m-\u001b[0m\u001b[0mj\u001b[0m\u001b[1;33m]\u001b[0m\u001b[1;33m\u001b[0m\u001b[1;33m\u001b[0m\u001b[0m\n",
      "\u001b[1;31mIndexError\u001b[0m: list index out of range"
     ]
    }
   ],
   "source": [
    "#Расчёт новой матрицы\n",
    "li = len(mtrx)-1\n",
    "lj = len(mtrx[0])-1\n",
    "#перебор по логике\n",
    "#Нужно учесть кроме матрицы из 1 элемента, варианты 1 столбец и 1 строка\n",
    "for i in range(len(mtrx)):\n",
    "    for j in range(len(mtrx[0])):\n",
    "        if i == 0 and j == 0 and i == li and j == lj:#Правило для одного элемента матрицы\n",
    "            new_mtrx[i][j] = mtrx[li-i][j]+mtrx[i][lj-j]+mtrx[li][j]+mtrx[i][lj]\n",
    "        elif i == 0 and j == 0:#Правило для первой строки матрицы\n",
    "            if lj == 0 and li > 0:\n",
    "                new_mtrx[i][j] = mtrx[i+1][j]+mtrx[i][lj]+mtrx[li][j]+mtrx[i][lj]\n",
    "            else:\n",
    "                new_mtrx[i][j] = mtrx[i+1][j]+mtrx[i][j+1]+mtrx[li][j]+mtrx[i][lj]\n",
    "        elif i == 0 and j == lj:\n",
    "            new_mtrx[i][j] = mtrx[i][j-1]+mtrx[i+1][j]+mtrx[li][j]+mtrx[i][lj-j]\n",
    "        elif i == 0:\n",
    "            new_mtrx[i][j] = mtrx[i][j-1]+mtrx[i][j+1]+mtrx[i+1][j]+mtrx[li][j]\n",
    "        elif j == 0  and i == li:#Правило для первого столбца матрицы\n",
    "            new_mtrx[i][j] = mtrx[li-i][j]+mtrx[i-1][j]+mtrx[i][j+1]+mtrx[i][lj]\n",
    "        elif j == 0:\n",
    "            new_mtrx[i][j] = mtrx[i+1][j]+mtrx[i-1][j]+mtrx[i][j+1]+mtrx[i][lj]\n",
    "        elif i == li and j == lj:#Правило для последней строки матрицы\n",
    "            new_mtrx[i][j] = mtrx[i-1][j]+mtrx[i][j-1]+mtrx[li-i][j]+mtrx[i][lj-j]\n",
    "        elif i == li:#Элементы в центре\n",
    "            new_mtrx[i][j] = mtrx[i-1][j]+mtrx[i][j-1]+mtrx[i][j+1]+mtrx[li-i][j]\n",
    "        elif j == lj:#последний столбец\n",
    "            new_mtrx[i][j] = mtrx[i-1][j]+mtrx[i+1][j]+mtrx[i][j-1]+mtrx[i][lj-j]        \n",
    "        else:\n",
    "            new_mtrx[i][j] = mtrx[i-1][j]+mtrx[i+1][j]+mtrx[i][j-1]+mtrx[i][j+1]           \n",
    "            "
   ]
  },
  {
   "cell_type": "code",
   "execution_count": 106,
   "metadata": {},
   "outputs": [
    {
     "name": "stdout",
     "output_type": "stream",
     "text": [
      "0 \n",
      "0 \n",
      "0 \n"
     ]
    }
   ],
   "source": [
    "for i in range(len(new_mtrx)):\n",
    "    for j in range(len(new_mtrx[0])): \n",
    "        print(new_mtrx[i][j],end=' ')\n",
    "    print()"
   ]
  },
  {
   "cell_type": "code",
   "execution_count": 109,
   "metadata": {},
   "outputs": [
    {
     "name": "stdout",
     "output_type": "stream",
     "text": [
      "0 0    2 0\n"
     ]
    }
   ],
   "source": [
    "print(i,j,'  ',li,lj)"
   ]
  },
  {
   "cell_type": "markdown",
   "metadata": {},
   "source": [
    "Выведите таблицу размером n  n×n, заполненную числами от 11 до n^2 по спирали, выходящей из левого верхнего угла и закрученной по часовой стрелке, как показано в примере (здесь n=5):\n",
    "Sample Input:\n",
    "\n",
    "5\n",
    "Sample Output:\n",
    "\n",
    "[1 2 3 4 5\n",
    "16 17 18 19 6\n",
    "15 24 25 20 7\n",
    "14 23 22 21 8\n",
    "13 12 11 10 9]"
   ]
  },
  {
   "cell_type": "code",
   "execution_count": 23,
   "metadata": {},
   "outputs": [
    {
     "name": "stdout",
     "output_type": "stream",
     "text": [
      "5\n",
      "0 0 1\n",
      "0 1 2\n",
      "0 2 3\n",
      "0 3 4\n",
      "0 4 5\n",
      "1 4 6\n",
      "2 4 7\n",
      "3 4 8\n",
      "4 4 9\n",
      "1 4 10\n",
      "2 4 11\n",
      "3 4 12\n",
      "4 4 13\n",
      "1 4 14\n",
      "2 4 15\n",
      "3 4 16\n",
      "4 4 17\n",
      "1 4 18\n",
      "2 4 19\n",
      "3 4 20\n",
      "4 4 21\n",
      "1 4 22\n",
      "2 4 23\n",
      "3 4 24\n",
      "4 4 25\n",
      "[1, 2, 3, 4, 5] [0, 0, 0, 0, 22] [0, 0, 0, 0, 23] [0, 0, 0, 0, 24] [0, 0, 0, 0, 25]\n"
     ]
    }
   ],
   "source": [
    "n = int(input())\n",
    "mtrx = [[0 for j in range(n)] for i in range(n)]\n",
    "z = 1\n",
    "i,j,k = [0,0,0]\n",
    "d = n\n",
    "#d = 1\n",
    "#for i in range(n):\n",
    "#    for j in range(n):        \n",
    "while z <= n**2:\n",
    "    if d<0:\n",
    "        break\n",
    "    mtrx[i][j] = z\n",
    "    print(i,j,mtrx[i][j])\n",
    "    z += 1    \n",
    "    if j>=d-1:\n",
    "        i += 1\n",
    "        #j = 0\n",
    "    else:\n",
    "        j += 1\n",
    "    if i>d-1:\n",
    "        i = 1\n",
    "        k += 1\n",
    "    if i==d and j==d:\n",
    "        d -= 1\n",
    "        j = d -1\n",
    "        i = d - 1\n",
    "        \n",
    "print(*mtrx)"
   ]
  },
  {
   "cell_type": "code",
   "execution_count": 24,
   "metadata": {},
   "outputs": [
    {
     "data": {
      "text/plain": [
       "[[1, 2, 3, 4, 5],\n",
       " [0, 0, 0, 0, 22],\n",
       " [0, 0, 0, 0, 23],\n",
       " [0, 0, 0, 0, 24],\n",
       " [0, 0, 0, 0, 25]]"
      ]
     },
     "execution_count": 24,
     "metadata": {},
     "output_type": "execute_result"
    }
   ],
   "source": [
    "mtrx"
   ]
  },
  {
   "cell_type": "code",
   "execution_count": null,
   "metadata": {},
   "outputs": [],
   "source": []
  },
  {
   "cell_type": "code",
   "execution_count": null,
   "metadata": {},
   "outputs": [],
   "source": []
  }
 ],
 "metadata": {
  "kernelspec": {
   "display_name": "Python 3",
   "language": "python",
   "name": "python3"
  },
  "language_info": {
   "codemirror_mode": {
    "name": "ipython",
    "version": 3
   },
   "file_extension": ".py",
   "mimetype": "text/x-python",
   "name": "python",
   "nbconvert_exporter": "python",
   "pygments_lexer": "ipython3",
   "version": "3.7.6"
  }
 },
 "nbformat": 4,
 "nbformat_minor": 4
}
