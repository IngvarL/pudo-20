{
 "cells": [
  {
   "cell_type": "code",
   "execution_count": 5,
   "metadata": {},
   "outputs": [],
   "source": [
    "import re"
   ]
  },
  {
   "cell_type": "code",
   "execution_count": 6,
   "metadata": {},
   "outputs": [],
   "source": [
    "# найдем идентификаторы пользователей в тексте\n",
    "msg = 'В розыгрыше победили: id1234563, id4653, id461'"
   ]
  },
  {
   "cell_type": "code",
   "execution_count": 7,
   "metadata": {},
   "outputs": [
    {
     "data": {
      "text/plain": [
       "['id1234563', 'id4653', 'id461']"
      ]
     },
     "execution_count": 7,
     "metadata": {},
     "output_type": "execute_result"
    }
   ],
   "source": [
    "re.findall(r'id\\d+', msg)"
   ]
  },
  {
   "cell_type": "code",
   "execution_count": 8,
   "metadata": {},
   "outputs": [],
   "source": [
    "# ПРАКТИКА. Найдем хэштеги в твите\n",
    "tweet = 'когда #эпидемия, то обязательно #оставайсядома'"
   ]
  },
  {
   "cell_type": "code",
   "execution_count": 9,
   "metadata": {},
   "outputs": [
    {
     "data": {
      "text/plain": [
       "['#эпидемия', '#оставайсядома']"
      ]
     },
     "execution_count": 9,
     "metadata": {},
     "output_type": "execute_result"
    }
   ],
   "source": [
    "re.findall(r'#\\w+', tweet)"
   ]
  },
  {
   "cell_type": "code",
   "execution_count": 10,
   "metadata": {},
   "outputs": [
    {
     "data": {
      "text/plain": [
       "['#эпидемия', '#оставайсядома']"
      ]
     },
     "execution_count": 10,
     "metadata": {},
     "output_type": "execute_result"
    }
   ],
   "source": [
    "re.findall(r'#\\w+', tweet)"
   ]
  },
  {
   "cell_type": "code",
   "execution_count": 14,
   "metadata": {},
   "outputs": [],
   "source": [
    "# посмотрим внимательнее, как работают quantifiers\n",
    "text = \"\"\"Что такое регулярные выражения и как их использовать?\n",
    "Говоря простым языком, регулярное выражение — это последовательность символов, используемая для поиска и замены текста в строке или файле. Как уже было упомянуто,\\\n",
    "их поддерживает множество языков общего назначения: Python, Perl, R.\n",
    "Так что изучение регулярных выражений рано или поздно пригодится.\"\"\""
   ]
  },
  {
   "cell_type": "code",
   "execution_count": 15,
   "metadata": {
    "scrolled": true
   },
   "outputs": [
    {
     "data": {
      "text/plain": [
       "['Что',\n",
       " 'такое',\n",
       " 'регулярные',\n",
       " 'выражения',\n",
       " 'и',\n",
       " 'как',\n",
       " 'их',\n",
       " 'использовать',\n",
       " 'Говоря',\n",
       " 'простым',\n",
       " 'языком',\n",
       " 'регулярное',\n",
       " 'выражение',\n",
       " 'это',\n",
       " 'последовательность',\n",
       " 'символов',\n",
       " 'используемая',\n",
       " 'для',\n",
       " 'поиска',\n",
       " 'и',\n",
       " 'замены',\n",
       " 'текста',\n",
       " 'в',\n",
       " 'строке',\n",
       " 'или',\n",
       " 'файле',\n",
       " 'Как',\n",
       " 'уже',\n",
       " 'было',\n",
       " 'упомянуто',\n",
       " 'их',\n",
       " 'поддерживает',\n",
       " 'множество',\n",
       " 'языков',\n",
       " 'общего',\n",
       " 'назначения',\n",
       " 'Python',\n",
       " 'Perl',\n",
       " 'R',\n",
       " 'Так',\n",
       " 'что',\n",
       " 'изучение',\n",
       " 'регулярных',\n",
       " 'выражений',\n",
       " 'рано',\n",
       " 'или',\n",
       " 'поздно',\n",
       " 'пригодится']"
      ]
     },
     "execution_count": 15,
     "metadata": {},
     "output_type": "execute_result"
    }
   ],
   "source": [
    "re.findall(r'\\w+', text)"
   ]
  },
  {
   "cell_type": "code",
   "execution_count": 16,
   "metadata": {},
   "outputs": [
    {
     "data": {
      "text/plain": [
       "['Что',\n",
       " '',\n",
       " 'такое',\n",
       " '',\n",
       " 'регулярные',\n",
       " '',\n",
       " 'выражения',\n",
       " '',\n",
       " 'и',\n",
       " '',\n",
       " 'как',\n",
       " '',\n",
       " 'их',\n",
       " '',\n",
       " 'использовать',\n",
       " '',\n",
       " '',\n",
       " 'Говоря',\n",
       " '',\n",
       " 'простым',\n",
       " '',\n",
       " 'языком',\n",
       " '',\n",
       " '',\n",
       " 'регулярное',\n",
       " '',\n",
       " 'выражение',\n",
       " '',\n",
       " '',\n",
       " '',\n",
       " 'это',\n",
       " '',\n",
       " 'последовательность',\n",
       " '',\n",
       " 'символов',\n",
       " '',\n",
       " '',\n",
       " 'используемая',\n",
       " '',\n",
       " 'для',\n",
       " '',\n",
       " 'поиска',\n",
       " '',\n",
       " 'и',\n",
       " '',\n",
       " 'замены',\n",
       " '',\n",
       " 'текста',\n",
       " '',\n",
       " 'в',\n",
       " '',\n",
       " 'строке',\n",
       " '',\n",
       " 'или',\n",
       " '',\n",
       " 'файле',\n",
       " '',\n",
       " '',\n",
       " 'Как',\n",
       " '',\n",
       " 'уже',\n",
       " '',\n",
       " 'было',\n",
       " '',\n",
       " 'упомянуто',\n",
       " '',\n",
       " 'их',\n",
       " '',\n",
       " 'поддерживает',\n",
       " '',\n",
       " 'множество',\n",
       " '',\n",
       " 'языков',\n",
       " '',\n",
       " 'общего',\n",
       " '',\n",
       " 'назначения',\n",
       " '',\n",
       " '',\n",
       " 'Python',\n",
       " '',\n",
       " '',\n",
       " 'Perl',\n",
       " '',\n",
       " '',\n",
       " 'R',\n",
       " '',\n",
       " '',\n",
       " 'Так',\n",
       " '',\n",
       " 'что',\n",
       " '',\n",
       " 'изучение',\n",
       " '',\n",
       " 'регулярных',\n",
       " '',\n",
       " 'выражений',\n",
       " '',\n",
       " 'рано',\n",
       " '',\n",
       " 'или',\n",
       " '',\n",
       " 'поздно',\n",
       " '',\n",
       " 'пригодится',\n",
       " '',\n",
       " '']"
      ]
     },
     "execution_count": 16,
     "metadata": {},
     "output_type": "execute_result"
    }
   ],
   "source": [
    "re.findall(r'\\w*', text)"
   ]
  },
  {
   "cell_type": "code",
   "execution_count": 17,
   "metadata": {},
   "outputs": [
    {
     "data": {
      "text/plain": [
       "['Ч',\n",
       " 'т',\n",
       " 'о',\n",
       " '',\n",
       " 'т',\n",
       " 'а',\n",
       " 'к',\n",
       " 'о',\n",
       " 'е',\n",
       " '',\n",
       " 'р',\n",
       " 'е',\n",
       " 'г',\n",
       " 'у',\n",
       " 'л',\n",
       " 'я',\n",
       " 'р',\n",
       " 'н',\n",
       " 'ы',\n",
       " 'е',\n",
       " '',\n",
       " 'в',\n",
       " 'ы',\n",
       " 'р',\n",
       " 'а',\n",
       " 'ж',\n",
       " 'е',\n",
       " 'н',\n",
       " 'и',\n",
       " 'я',\n",
       " '',\n",
       " 'и',\n",
       " '',\n",
       " 'к',\n",
       " 'а',\n",
       " 'к',\n",
       " '',\n",
       " 'и',\n",
       " 'х',\n",
       " '',\n",
       " 'и',\n",
       " 'с',\n",
       " 'п',\n",
       " 'о',\n",
       " 'л',\n",
       " 'ь',\n",
       " 'з',\n",
       " 'о',\n",
       " 'в',\n",
       " 'а',\n",
       " 'т',\n",
       " 'ь',\n",
       " '',\n",
       " '',\n",
       " 'Г',\n",
       " 'о',\n",
       " 'в',\n",
       " 'о',\n",
       " 'р',\n",
       " 'я',\n",
       " '',\n",
       " 'п',\n",
       " 'р',\n",
       " 'о',\n",
       " 'с',\n",
       " 'т',\n",
       " 'ы',\n",
       " 'м',\n",
       " '',\n",
       " 'я',\n",
       " 'з',\n",
       " 'ы',\n",
       " 'к',\n",
       " 'о',\n",
       " 'м',\n",
       " '',\n",
       " '',\n",
       " 'р',\n",
       " 'е',\n",
       " 'г',\n",
       " 'у',\n",
       " 'л',\n",
       " 'я',\n",
       " 'р',\n",
       " 'н',\n",
       " 'о',\n",
       " 'е',\n",
       " '',\n",
       " 'в',\n",
       " 'ы',\n",
       " 'р',\n",
       " 'а',\n",
       " 'ж',\n",
       " 'е',\n",
       " 'н',\n",
       " 'и',\n",
       " 'е',\n",
       " '',\n",
       " '',\n",
       " '',\n",
       " 'э',\n",
       " 'т',\n",
       " 'о',\n",
       " '',\n",
       " 'п',\n",
       " 'о',\n",
       " 'с',\n",
       " 'л',\n",
       " 'е',\n",
       " 'д',\n",
       " 'о',\n",
       " 'в',\n",
       " 'а',\n",
       " 'т',\n",
       " 'е',\n",
       " 'л',\n",
       " 'ь',\n",
       " 'н',\n",
       " 'о',\n",
       " 'с',\n",
       " 'т',\n",
       " 'ь',\n",
       " '',\n",
       " 'с',\n",
       " 'и',\n",
       " 'м',\n",
       " 'в',\n",
       " 'о',\n",
       " 'л',\n",
       " 'о',\n",
       " 'в',\n",
       " '',\n",
       " '',\n",
       " 'и',\n",
       " 'с',\n",
       " 'п',\n",
       " 'о',\n",
       " 'л',\n",
       " 'ь',\n",
       " 'з',\n",
       " 'у',\n",
       " 'е',\n",
       " 'м',\n",
       " 'а',\n",
       " 'я',\n",
       " '',\n",
       " 'д',\n",
       " 'л',\n",
       " 'я',\n",
       " '',\n",
       " 'п',\n",
       " 'о',\n",
       " 'и',\n",
       " 'с',\n",
       " 'к',\n",
       " 'а',\n",
       " '',\n",
       " 'и',\n",
       " '',\n",
       " 'з',\n",
       " 'а',\n",
       " 'м',\n",
       " 'е',\n",
       " 'н',\n",
       " 'ы',\n",
       " '',\n",
       " 'т',\n",
       " 'е',\n",
       " 'к',\n",
       " 'с',\n",
       " 'т',\n",
       " 'а',\n",
       " '',\n",
       " 'в',\n",
       " '',\n",
       " 'с',\n",
       " 'т',\n",
       " 'р',\n",
       " 'о',\n",
       " 'к',\n",
       " 'е',\n",
       " '',\n",
       " 'и',\n",
       " 'л',\n",
       " 'и',\n",
       " '',\n",
       " 'ф',\n",
       " 'а',\n",
       " 'й',\n",
       " 'л',\n",
       " 'е',\n",
       " '',\n",
       " '',\n",
       " 'К',\n",
       " 'а',\n",
       " 'к',\n",
       " '',\n",
       " 'у',\n",
       " 'ж',\n",
       " 'е',\n",
       " '',\n",
       " 'б',\n",
       " 'ы',\n",
       " 'л',\n",
       " 'о',\n",
       " '',\n",
       " 'у',\n",
       " 'п',\n",
       " 'о',\n",
       " 'м',\n",
       " 'я',\n",
       " 'н',\n",
       " 'у',\n",
       " 'т',\n",
       " 'о',\n",
       " '',\n",
       " 'и',\n",
       " 'х',\n",
       " '',\n",
       " 'п',\n",
       " 'о',\n",
       " 'д',\n",
       " 'д',\n",
       " 'е',\n",
       " 'р',\n",
       " 'ж',\n",
       " 'и',\n",
       " 'в',\n",
       " 'а',\n",
       " 'е',\n",
       " 'т',\n",
       " '',\n",
       " 'м',\n",
       " 'н',\n",
       " 'о',\n",
       " 'ж',\n",
       " 'е',\n",
       " 'с',\n",
       " 'т',\n",
       " 'в',\n",
       " 'о',\n",
       " '',\n",
       " 'я',\n",
       " 'з',\n",
       " 'ы',\n",
       " 'к',\n",
       " 'о',\n",
       " 'в',\n",
       " '',\n",
       " 'о',\n",
       " 'б',\n",
       " 'щ',\n",
       " 'е',\n",
       " 'г',\n",
       " 'о',\n",
       " '',\n",
       " 'н',\n",
       " 'а',\n",
       " 'з',\n",
       " 'н',\n",
       " 'а',\n",
       " 'ч',\n",
       " 'е',\n",
       " 'н',\n",
       " 'и',\n",
       " 'я',\n",
       " '',\n",
       " '',\n",
       " 'P',\n",
       " 'y',\n",
       " 't',\n",
       " 'h',\n",
       " 'o',\n",
       " 'n',\n",
       " '',\n",
       " '',\n",
       " 'P',\n",
       " 'e',\n",
       " 'r',\n",
       " 'l',\n",
       " '',\n",
       " '',\n",
       " 'R',\n",
       " '',\n",
       " '',\n",
       " 'Т',\n",
       " 'а',\n",
       " 'к',\n",
       " '',\n",
       " 'ч',\n",
       " 'т',\n",
       " 'о',\n",
       " '',\n",
       " 'и',\n",
       " 'з',\n",
       " 'у',\n",
       " 'ч',\n",
       " 'е',\n",
       " 'н',\n",
       " 'и',\n",
       " 'е',\n",
       " '',\n",
       " 'р',\n",
       " 'е',\n",
       " 'г',\n",
       " 'у',\n",
       " 'л',\n",
       " 'я',\n",
       " 'р',\n",
       " 'н',\n",
       " 'ы',\n",
       " 'х',\n",
       " '',\n",
       " 'в',\n",
       " 'ы',\n",
       " 'р',\n",
       " 'а',\n",
       " 'ж',\n",
       " 'е',\n",
       " 'н',\n",
       " 'и',\n",
       " 'й',\n",
       " '',\n",
       " 'р',\n",
       " 'а',\n",
       " 'н',\n",
       " 'о',\n",
       " '',\n",
       " 'и',\n",
       " 'л',\n",
       " 'и',\n",
       " '',\n",
       " 'п',\n",
       " 'о',\n",
       " 'з',\n",
       " 'д',\n",
       " 'н',\n",
       " 'о',\n",
       " '',\n",
       " 'п',\n",
       " 'р',\n",
       " 'и',\n",
       " 'г',\n",
       " 'о',\n",
       " 'д',\n",
       " 'и',\n",
       " 'т',\n",
       " 'с',\n",
       " 'я',\n",
       " '',\n",
       " '']"
      ]
     },
     "execution_count": 17,
     "metadata": {},
     "output_type": "execute_result"
    }
   ],
   "source": [
    "re.findall(r'\\w?', text)"
   ]
  },
  {
   "cell_type": "code",
   "execution_count": 19,
   "metadata": {},
   "outputs": [],
   "source": [
    "# необходимо из строки с условными датами вытащить их\n",
    "registration = 'Date of start: 4-12. Date of registration: 20-11'"
   ]
  },
  {
   "cell_type": "code",
   "execution_count": 20,
   "metadata": {},
   "outputs": [
    {
     "data": {
      "text/plain": [
       "['4-12', '20-11']"
      ]
     },
     "execution_count": 20,
     "metadata": {},
     "output_type": "execute_result"
    }
   ],
   "source": [
    "re.findall(r'\\d{1,2}-\\d{1,2}', registration)"
   ]
  },
  {
   "cell_type": "code",
   "execution_count": 21,
   "metadata": {},
   "outputs": [],
   "source": [
    "# вытащим номера телефонов и текста\n",
    "phone_numbers = 'Мария: 8-943-342-23-32 Александр: 8-323-432-23-67'"
   ]
  },
  {
   "cell_type": "code",
   "execution_count": 22,
   "metadata": {},
   "outputs": [
    {
     "data": {
      "text/plain": [
       "['8-943-342-23-32', '8-323-432-23-67']"
      ]
     },
     "execution_count": 22,
     "metadata": {},
     "output_type": "execute_result"
    }
   ],
   "source": [
    "phone_pattern = r'\\d-\\d{3}-\\d{3}-\\d{2}-\\d{2}'\n",
    "re.findall(phone_pattern, phone_numbers)"
   ]
  },
  {
   "cell_type": "code",
   "execution_count": 23,
   "metadata": {
    "scrolled": true
   },
   "outputs": [],
   "source": [
    "# ПРАКТИКА. Свалидируем дату\n",
    "date = '1st september 2019 07:25'"
   ]
  },
  {
   "cell_type": "code",
   "execution_count": 30,
   "metadata": {},
   "outputs": [
    {
     "data": {
      "text/plain": [
       "['1st september 2019 07:25']"
      ]
     },
     "execution_count": 30,
     "metadata": {},
     "output_type": "execute_result"
    }
   ],
   "source": [
    "re.findall(r'\\d{1,2}\\w{2}\\s\\w+\\s\\d{4}\\s\\d{2}\\:\\d{2}', date)"
   ]
  },
  {
   "cell_type": "code",
   "execution_count": 29,
   "metadata": {},
   "outputs": [
    {
     "data": {
      "text/plain": [
       "['1st september 2019 07:25']"
      ]
     },
     "execution_count": 29,
     "metadata": {},
     "output_type": "execute_result"
    }
   ],
   "source": [
    "re.findall(r'\\d{1,2}\\w{2}\\s\\w+\\s\\d{4}\\s\\d{2}:\\d{2}', date)"
   ]
  },
  {
   "cell_type": "code",
   "execution_count": 31,
   "metadata": {},
   "outputs": [],
   "source": [
    "# ПРАКТИКА. Посчитаем количество лайков и репостов по всем сообщениям\n",
    "messages = ['Опять 566 дождь! Лайков: 2', 'Крутой был концерт! Лайков: 28, Репостов: 22']"
   ]
  },
  {
   "cell_type": "code",
   "execution_count": 33,
   "metadata": {},
   "outputs": [
    {
     "name": "stdout",
     "output_type": "stream",
     "text": [
      "30\n",
      "22\n"
     ]
    }
   ],
   "source": [
    "likes_pattern = r'Лайков:\\s\\d+'\n",
    "repost_pattern = r'Репостов:\\s\\d+'\n",
    "likes = 0\n",
    "repost = 0\n",
    "\n",
    "for msg in messages:\n",
    "    if re.findall(likes_pattern, msg):\n",
    "        likes += int(re.findall(r'\\d+', re.findall(likes_pattern, msg)[0])[0])\n",
    "    if re.findall(repost_pattern, msg):\n",
    "        repost += int(re.findall(r'\\d+', re.findall(repost_pattern, msg)[0])[0])\n",
    "print(likes)\n",
    "print(repost)"
   ]
  },
  {
   "cell_type": "code",
   "execution_count": 34,
   "metadata": {},
   "outputs": [],
   "source": [
    "# простым способом посчитаем количество слов в твите\n",
    "tweet_2 = 'Какое замечательное место! Обязательно вернусть сюда снова. Всем советую!!!'"
   ]
  },
  {
   "cell_type": "code",
   "execution_count": 35,
   "metadata": {},
   "outputs": [
    {
     "data": {
      "text/plain": [
       "9"
      ]
     },
     "execution_count": 35,
     "metadata": {},
     "output_type": "execute_result"
    }
   ],
   "source": [
    "len(re.split(r'\\b\\W+\\b', tweet_2))\n"
   ]
  },
  {
   "cell_type": "code",
   "execution_count": null,
   "metadata": {},
   "outputs": [],
   "source": []
  },
  {
   "cell_type": "code",
   "execution_count": 36,
   "metadata": {},
   "outputs": [
    {
     "name": "stdout",
     "output_type": "stream",
     "text": [
      "Не нашел\n"
     ]
    }
   ],
   "source": [
    "# search ищет по всей строке, а match только в начале\n",
    "text = \"\"\"Что такое регулярные выражения и как их использовать? \n",
    "Говоря простым языком, регулярное выражение — это последовательность символов, используемая для поиска и замены текста в строке или файле. Как уже было упомянуто,\\\n",
    "их поддерживает множество языков общего назначения: Python, Perl, R.\n",
    "Так что изучение регулярных выражений рано или поздно пригодится.\"\"\"\n",
    "\n",
    "result = re.match(r'Python', text)\n",
    "result\n",
    "print('Нашел' if result else 'Не нашел')"
   ]
  },
  {
   "cell_type": "code",
   "execution_count": 42,
   "metadata": {},
   "outputs": [
    {
     "data": {
      "text/plain": [
       "3"
      ]
     },
     "execution_count": 42,
     "metadata": {},
     "output_type": "execute_result"
    }
   ],
   "source": [
    "re.match(r'\\w+', text).end()"
   ]
  },
  {
   "cell_type": "code",
   "execution_count": 45,
   "metadata": {},
   "outputs": [
    {
     "data": {
      "text/plain": [
       "<re.Match object; span=(269, 275), match='Python'>"
      ]
     },
     "execution_count": 45,
     "metadata": {},
     "output_type": "execute_result"
    }
   ],
   "source": [
    "res = re.search(r'Python', text)\n",
    "res\n",
    "# res.group()\n",
    "# res"
   ]
  },
  {
   "cell_type": "code",
   "execution_count": null,
   "metadata": {},
   "outputs": [],
   "source": []
  },
  {
   "cell_type": "code",
   "execution_count": 47,
   "metadata": {},
   "outputs": [],
   "source": [
    "# определим находится ли домен в зоне com\n",
    "domain = 'www.site.ru'"
   ]
  },
  {
   "cell_type": "code",
   "execution_count": 49,
   "metadata": {},
   "outputs": [
    {
     "data": {
      "text/plain": [
       "['www.site.ru']"
      ]
     },
     "execution_count": 49,
     "metadata": {},
     "output_type": "execute_result"
    }
   ],
   "source": [
    "re.findall(r'www\\.\\w+\\.ru', domain)"
   ]
  },
  {
   "cell_type": "code",
   "execution_count": 50,
   "metadata": {},
   "outputs": [],
   "source": [
    "# поищем только в начале и конце строки\n",
    "history_comment = '20 век был более опасным, чем 19 век'"
   ]
  },
  {
   "cell_type": "code",
   "execution_count": 51,
   "metadata": {},
   "outputs": [
    {
     "data": {
      "text/plain": [
       "['20 век', '19 век']"
      ]
     },
     "execution_count": 51,
     "metadata": {},
     "output_type": "execute_result"
    }
   ],
   "source": [
    "re.findall(r'\\d{1,2}\\s\\век', history_comment)"
   ]
  },
  {
   "cell_type": "code",
   "execution_count": 52,
   "metadata": {},
   "outputs": [
    {
     "data": {
      "text/plain": [
       "['20 век']"
      ]
     },
     "execution_count": 52,
     "metadata": {},
     "output_type": "execute_result"
    }
   ],
   "source": [
    "re.findall(r'^\\d{1,2}\\s\\век', history_comment)"
   ]
  },
  {
   "cell_type": "code",
   "execution_count": 53,
   "metadata": {},
   "outputs": [
    {
     "data": {
      "text/plain": [
       "['19 век']"
      ]
     },
     "execution_count": 53,
     "metadata": {},
     "output_type": "execute_result"
    }
   ],
   "source": [
    "re.findall(r'\\d{1,2}\\s\\век$', history_comment)"
   ]
  },
  {
   "cell_type": "code",
   "execution_count": null,
   "metadata": {},
   "outputs": [],
   "source": [
    "# Разделим текст по точкам\n",
    "text = \"\"\"Что такое регулярные выражения и как их использовать? \n",
    "Говоря простым языком, регулярное выражение — это последовательность символов, используемая для поиска и замены текста в строке или файле. Как уже было упомянуто,\n",
    "их поддерживает множество языков общего назначения: Python, Perl, R.\n",
    "Так что изучение регулярных выражений рано или поздно пригодится.\"\"\""
   ]
  },
  {
   "cell_type": "code",
   "execution_count": null,
   "metadata": {},
   "outputs": [],
   "source": []
  },
  {
   "cell_type": "code",
   "execution_count": 54,
   "metadata": {},
   "outputs": [
    {
     "data": {
      "text/plain": [
       "['ноутбук', 'компьютер']"
      ]
     },
     "execution_count": 54,
     "metadata": {},
     "output_type": "execute_result"
    }
   ],
   "source": [
    "# ИЛИ\n",
    "market_search = 'Что лучше: ноутбук или компьютер?'\n",
    "re.findall('ноутбук|компьютер', market_search)"
   ]
  },
  {
   "cell_type": "code",
   "execution_count": 55,
   "metadata": {},
   "outputs": [
    {
     "data": {
      "text/plain": [
       "['регулярные выражения', 'регулярное выражение', 'регулярных выражений']"
      ]
     },
     "execution_count": 55,
     "metadata": {},
     "output_type": "execute_result"
    }
   ],
   "source": [
    "# [] - найдем слово во всем склонениях\n",
    "text = \"\"\"Что такое регулярные выражения и как их использовать? \n",
    "Говоря простым языком, регулярное выражение — это последовательность символов, используемая для поиска и замены текста в строке или файле. Как уже было упомянуто,\n",
    "их поддерживает множество языков общего назначения: Python, Perl, R.\n",
    "Так что изучение регулярных выражений рано или поздно пригодится.\"\"\"\n",
    "pattern = r'регулярн[а-я]+\\sвыражен[а-я]+'\n",
    "re.findall(pattern, text)"
   ]
  },
  {
   "cell_type": "code",
   "execution_count": 56,
   "metadata": {},
   "outputs": [],
   "source": [
    "# найдем все домены, которые состоят из цифр\n",
    "websites = 'www.101.com  www.google.com'"
   ]
  },
  {
   "cell_type": "code",
   "execution_count": 57,
   "metadata": {},
   "outputs": [
    {
     "data": {
      "text/plain": [
       "['www.101.com']"
      ]
     },
     "execution_count": 57,
     "metadata": {},
     "output_type": "execute_result"
    }
   ],
   "source": [
    "re.findall(r'www\\.[0-9]+\\.com', websites)"
   ]
  },
  {
   "cell_type": "code",
   "execution_count": 58,
   "metadata": {},
   "outputs": [],
   "source": [
    "websites = 'www.101.com  www.google.com'"
   ]
  },
  {
   "cell_type": "code",
   "execution_count": 59,
   "metadata": {},
   "outputs": [
    {
     "data": {
      "text/plain": [
       "['www.google.com']"
      ]
     },
     "execution_count": 59,
     "metadata": {},
     "output_type": "execute_result"
    }
   ],
   "source": [
    "re.findall(r'www\\.[^0-9]+\\.com', websites)"
   ]
  },
  {
   "cell_type": "code",
   "execution_count": 61,
   "metadata": {},
   "outputs": [],
   "source": [
    "# ПРАКТИКА. Разделим текст по ! и по точкам\n",
    "tweet_3 = 'Какое замечательное место! Обязательно вернусть сюда снова. Всем советую!!!'"
   ]
  },
  {
   "cell_type": "code",
   "execution_count": 70,
   "metadata": {},
   "outputs": [
    {
     "data": {
      "text/plain": [
       "['Какое ', 'замечательное ', 'Обязательно ', 'вернусть ', 'сюда ', 'Всем ']"
      ]
     },
     "execution_count": 70,
     "metadata": {},
     "output_type": "execute_result"
    }
   ],
   "source": [
    "# re.findall(r'\\w+\\s+', tweet_3)"
   ]
  },
  {
   "cell_type": "code",
   "execution_count": 65,
   "metadata": {},
   "outputs": [
    {
     "data": {
      "text/plain": [
       "3"
      ]
     },
     "execution_count": 65,
     "metadata": {},
     "output_type": "execute_result"
    }
   ],
   "source": [
    "len(re.split(r'[.!?]+\\s',tweet_3))"
   ]
  },
  {
   "cell_type": "code",
   "execution_count": 67,
   "metadata": {},
   "outputs": [
    {
     "data": {
      "text/plain": [
       "['Какое замечательное место',\n",
       " 'Обязательно вернусть сюда снова',\n",
       " 'Всем советую!!!']"
      ]
     },
     "execution_count": 67,
     "metadata": {},
     "output_type": "execute_result"
    }
   ],
   "source": [
    "re.split(r'[.!?]+\\s',tweet_3)"
   ]
  },
  {
   "cell_type": "code",
   "execution_count": 72,
   "metadata": {},
   "outputs": [
    {
     "data": {
      "text/plain": [
       "'Что такое regex и как их использовать? \\nГоворя простым языком, regex — это последовательность символов, используемая для поиска и замены текста в строке или файле. Как уже было упомянуто,\\nих поддерживает множество языков общего назначения: Python, Perl, R.\\nТак что изучение regex рано или поздно пригодится.'"
      ]
     },
     "execution_count": 72,
     "metadata": {},
     "output_type": "execute_result"
    }
   ],
   "source": [
    "# произведем замену на regex\n",
    "text = \"\"\"Что такое регулярные выражения и как их использовать? \n",
    "Говоря простым языком, регулярное выражение — это последовательность символов, используемая для поиска и замены текста в строке или файле. Как уже было упомянуто,\n",
    "их поддерживает множество языков общего назначения: Python, Perl, R.\n",
    "Так что изучение регулярных выражений рано или поздно пригодится.\"\"\"\n",
    "re.sub(r'регулярн[а-я]+ выражен[а-я]+', 'regex', text)"
   ]
  },
  {
   "cell_type": "code",
   "execution_count": 73,
   "metadata": {},
   "outputs": [],
   "source": [
    "# скобочные группы\n",
    "# выделим группы символов из посадочного талона, где:\n",
    "# - первые 2 символа - это авиакомпания;\n",
    "# - 4 следующие символа - номер рейса;\n",
    "# - 3 следующих символа - аэропорт отправления;\n",
    "# - 3 следюущих - аэропорт прибытия;\n",
    "# - оставшиеся - дата рейса\n",
    "# Все буквы всегда в верхнем регистре"
   ]
  },
  {
   "cell_type": "code",
   "execution_count": 79,
   "metadata": {},
   "outputs": [],
   "source": [
    "flight = 'Boarding pass: S74214 AER-CDB 06NOV'"
   ]
  },
  {
   "cell_type": "code",
   "execution_count": 82,
   "metadata": {},
   "outputs": [],
   "source": [
    "flight = 'Boarding pass: S74214 AER-CDB 06NOV S74332 AER-CDB 07NOV'\n",
    "regex_flight = r'([A-Z0-9]{2})(\\d{4})\\s([A-Z]{3})-([A-Z]{3})\\s(\\d{2}[A-Z]{3})'"
   ]
  },
  {
   "cell_type": "code",
   "execution_count": 83,
   "metadata": {},
   "outputs": [
    {
     "data": {
      "text/plain": [
       "[('S7', '4214', 'AER', 'CDB', '06NOV'), ('S7', '4332', 'AER', 'CDB', '07NOV')]"
      ]
     },
     "execution_count": 83,
     "metadata": {},
     "output_type": "execute_result"
    }
   ],
   "source": [
    "# ВНИМАНИЕ! При наличии скобочных групп функция find_all ищет только их! \n",
    "# Остальные функции получают такой-же match объект, в котором есть возможность обратиться к любой группе\n",
    "flight_result = re.findall(regex_flight, flight)\n",
    "flight_result"
   ]
  },
  {
   "cell_type": "code",
   "execution_count": 84,
   "metadata": {},
   "outputs": [
    {
     "name": "stdout",
     "output_type": "stream",
     "text": [
      "[('S7', '4214', 'AER', 'CDB', '06NOV'), ('S7', '4332', 'AER', 'CDB', '07NOV')]\n"
     ]
    }
   ],
   "source": [
    "print(flight_result)"
   ]
  },
  {
   "cell_type": "code",
   "execution_count": 90,
   "metadata": {},
   "outputs": [
    {
     "name": "stdout",
     "output_type": "stream",
     "text": [
      "<re.Match object; span=(15, 35), match='S74214 AER-CDB 06NOV'>\n",
      "06NOV\n"
     ]
    }
   ],
   "source": [
    "flight_match_result = re.search(regex_flight, flight)\n",
    "print(flight_match_result)\n",
    "print(flight_match_result.group(5))"
   ]
  },
  {
   "cell_type": "code",
   "execution_count": 91,
   "metadata": {},
   "outputs": [
    {
     "data": {
      "text/plain": [
       "<re.Match object; span=(21, 24), match='770'>"
      ]
     },
     "execution_count": 91,
     "metadata": {},
     "output_type": "execute_result"
    }
   ],
   "source": [
    "# квантификатор внутри группы и после нее  – это совершенно разные вещи!\n",
    "\n",
    "numbers = 'Мои счастливое число 770'\n",
    "re.search(r'\\d\\d+', numbers)"
   ]
  },
  {
   "cell_type": "code",
   "execution_count": 92,
   "metadata": {},
   "outputs": [
    {
     "data": {
      "text/plain": [
       "<re.Match object; span=(21, 23), match='77'>"
      ]
     },
     "execution_count": 92,
     "metadata": {},
     "output_type": "execute_result"
    }
   ],
   "source": [
    "# Если установить квантификатор после скобок, то он будет применяться ко всему содержимому скобки, а не к одному символу.\n",
    "re.search(r'(\\d\\d)+', numbers)"
   ]
  },
  {
   "cell_type": "code",
   "execution_count": 93,
   "metadata": {},
   "outputs": [
    {
     "data": {
      "text/plain": [
       "'30.08.1991'"
      ]
     },
     "execution_count": 93,
     "metadata": {},
     "output_type": "execute_result"
    }
   ],
   "source": [
    "# переведем даты к другому формату при помощи групп\n",
    "date = '08/30/1991'\n",
    "re.sub(r'(\\d\\d)/(\\d\\d)/(\\d{4})', r'\\2.\\1.\\3', date)"
   ]
  },
  {
   "cell_type": "code",
   "execution_count": 94,
   "metadata": {},
   "outputs": [],
   "source": [
    "# удалим последовательные повторы чисел\n",
    "numbers = '44444555 6666 8888 7777 44445467457547457555555'"
   ]
  },
  {
   "cell_type": "code",
   "execution_count": 95,
   "metadata": {},
   "outputs": [
    {
     "data": {
      "text/plain": [
       "'45 6 8 7 454674575474575'"
      ]
     },
     "execution_count": 95,
     "metadata": {},
     "output_type": "execute_result"
    }
   ],
   "source": [
    "re.sub(r'(\\d)\\1+', r'\\1', numbers)"
   ]
  },
  {
   "cell_type": "code",
   "execution_count": null,
   "metadata": {},
   "outputs": [],
   "source": []
  },
  {
   "cell_type": "code",
   "execution_count": 97,
   "metadata": {},
   "outputs": [
    {
     "data": {
      "text/plain": [
       "['33.txt', '44.txt']"
      ]
     },
     "execution_count": 97,
     "metadata": {},
     "output_type": "execute_result"
    }
   ],
   "source": [
    "# lookaround. Достанем имена только загруженных файлов\n",
    "report = 'файл 11.txt загружен, файл 22.txt загружен, файл 33.txt ошибка 44345, файл 44.txt ошибка 111'\n",
    "# find_downloaded = r'\\d+\\.txt(?=\\sзагружен)'\n",
    "files_error = r'\\d+\\.txt(?!\\sзагружен)'\n",
    "# re.findall(find_downloaded, report)\n",
    "re.findall(files_error, report)"
   ]
  },
  {
   "cell_type": "code",
   "execution_count": 99,
   "metadata": {},
   "outputs": [],
   "source": [
    "# ПРАКТИКА. Получить только рублевые цены\n",
    "prices = 'RUB4.44, RUB10.88, EUR0.99, RUB99.99'"
   ]
  },
  {
   "cell_type": "code",
   "execution_count": 102,
   "metadata": {},
   "outputs": [
    {
     "data": {
      "text/plain": [
       "['4.44', '10.88', '99.99']"
      ]
     },
     "execution_count": 102,
     "metadata": {},
     "output_type": "execute_result"
    }
   ],
   "source": [
    "re.findall(r'(?<=RUB)\\d+\\.\\d{1,2}', prices)"
   ]
  },
  {
   "cell_type": "code",
   "execution_count": 105,
   "metadata": {},
   "outputs": [
    {
     "data": {
      "text/plain": [
       "['4.44', '10.88', '99.99']"
      ]
     },
     "execution_count": 105,
     "metadata": {},
     "output_type": "execute_result"
    }
   ],
   "source": [
    "re.findall(r'(?<=RUB)\\d+\\.\\d{2}', prices)"
   ]
  },
  {
   "cell_type": "code",
   "execution_count": 107,
   "metadata": {},
   "outputs": [
    {
     "data": {
      "text/plain": [
       "['4.44', '10.88', '99.99']"
      ]
     },
     "execution_count": 107,
     "metadata": {},
     "output_type": "execute_result"
    }
   ],
   "source": [
    "re.findall(r'(?<=RUB)\\d+\\.\\d{2}', prices)"
   ]
  },
  {
   "cell_type": "code",
   "execution_count": null,
   "metadata": {},
   "outputs": [],
   "source": []
  }
 ],
 "metadata": {
  "kernelspec": {
   "display_name": "Python 3",
   "language": "python",
   "name": "python3"
  },
  "language_info": {
   "codemirror_mode": {
    "name": "ipython",
    "version": 3
   },
   "file_extension": ".py",
   "mimetype": "text/x-python",
   "name": "python",
   "nbconvert_exporter": "python",
   "pygments_lexer": "ipython3",
   "version": "3.7.6"
  }
 },
 "nbformat": 4,
 "nbformat_minor": 2
}
