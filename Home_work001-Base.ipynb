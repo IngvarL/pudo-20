{
 "cells": [
  {
   "cell_type": "markdown",
   "metadata": {},
   "source": [
    "Домашнее задание по теме «Основы Python»"
   ]
  },
  {
   "cell_type": "markdown",
   "metadata": {},
   "source": [
    "Задание №1\n",
    "Даны 2 переменных, в которых хранятся строки произвольной длины: phrase_1 и phrase_2.\n",
    "Напишите код, который проверяет какая из этих строк длиннее.\n",
    "\n",
    "Примеры работы программы:\n",
    "\n",
    "phrase_1 = 'Насколько проще было бы писать программы, если бы не заказчики’\n",
    "phrase_2 = '640Кб должно хватить для любых задач. Билл Гейтс (по легенде)'\n",
    "Результат:\n",
    "Фраза 1 длиннее фразы 2"
   ]
  },
  {
   "cell_type": "code",
   "execution_count": 3,
   "metadata": {},
   "outputs": [
    {
     "name": "stdout",
     "output_type": "stream",
     "text": [
      "выуыаываыв\n",
      "авыва\n",
      "Фраза1 длинее Фразы2\n"
     ]
    }
   ],
   "source": [
    "phrase_1=input()\n",
    "phrase_2=input()\n",
    "p1 = len(phrase_1)\n",
    "p2 = len(phrase_2)\n",
    "if p1>p2:\n",
    "    print('Фраза1 длинее Фразы2')\n",
    "elif p2>p1:\n",
    "    print('Фраза2 длинее Фразы1')\n",
    "else:\n",
    "    print('Фразы равной длины')"
   ]
  },
  {
   "cell_type": "markdown",
   "metadata": {},
   "source": [
    "Задание №2\n",
    "Дана переменная, в которой хранится четырехзначное число (год). Необходимо написать программу, которая выведет, является ли данный год високосным или обычным.\n",
    "\n",
    "Пример работы программы:\n",
    "\n",
    "year = 2020\n",
    "Результат:\n",
    "Високосный год"
   ]
  },
  {
   "cell_type": "code",
   "execution_count": 26,
   "metadata": {},
   "outputs": [
    {
     "name": "stdout",
     "output_type": "stream",
     "text": [
      "Високосный\n"
     ]
    }
   ],
   "source": [
    "year =2020\n",
    "if (year%4==0 and year%100!=0) : print ('Високосный')\n",
    "elif year%400==0 : print ('Високосный')\n",
    "else : print ('Обычный')"
   ]
  },
  {
   "cell_type": "markdown",
   "metadata": {},
   "source": [
    "Задание №3\n",
    "Необходимо написать программу, которая будет запрашивать у пользователя месяц и дату рождения и выводить соответствующий знак зодиака.\n",
    "\n",
    "Пример работы программы:\n",
    "\n",
    "Введите день:\n",
    "30\n",
    "\n",
    "Введите месяц:\n",
    "Август\n",
    "Результат:\n",
    "Ваш знак зодиака: Дева"
   ]
  },
  {
   "cell_type": "code",
   "execution_count": 12,
   "metadata": {},
   "outputs": [
    {
     "name": "stdout",
     "output_type": "stream",
     "text": [
      "1\n",
      "Февраль\n",
      "Ваш знак зодиака: Водолей\n"
     ]
    }
   ],
   "source": [
    "b_day = int(input())\n",
    "b_month = input()\n",
    "\n",
    "if (b_day>=21 and b_day<=31 and b_month=='Март') or( b_month=='Апрель' and b_day>=1 and b_day<=19):\n",
    "   print(\"Ваш знак зодиака: Овен\")\n",
    "elif (b_day>=20 and b_day<=30 and b_month=='Апрель') or( b_month=='Май' and b_day>=1 and b_day<=20):\n",
    "   print(\"Ваш знак зодиака: Телец\")\n",
    "elif (b_day>=21 and b_day<=31 and b_month=='Май') or( b_month=='Июнь' and b_day>=1 and b_day<=21):\n",
    "   print(\"Ваш знак зодиака: Близнецы\")\n",
    "elif (b_day>=22 and b_day<=30 and b_month=='Июнь') or( b_month=='Июль' and b_day>=1 and b_day<=22):\n",
    "   print(\"Ваш знак зодиака: Рак\")\n",
    "elif (b_day>=23 and b_day<=31 and b_month=='Июль') or( b_month=='Август' and b_day>=1 and b_day<=22):\n",
    "   print(\"Ваш знак зодиака: Лев\")\n",
    "elif (b_day>=23 and b_day<=31 and b_month=='Август') or( b_month=='Сентябрь' and b_day>=1 and b_day<=22):\n",
    "   print(\"Ваш знак зодиака: Дева\")\n",
    "elif (b_day>=23 and b_day<=30 and b_month=='Сентябрь') or( b_month=='Октябрь' and b_day>=1 and b_day<=23):\n",
    "   print(\"Ваш знак зодиака: Весы\")\n",
    "elif (b_day>=24 and b_day<=31 and b_month=='Октябрь') or( b_month=='Ноябрь' and b_day>=1 and b_day<=22):\n",
    "   print(\"Ваш знак зодиака: Скорпион\")\n",
    "elif (b_day>=23 and b_day<=30 and b_month=='Ноябрь') or( b_month=='Декабрь' and b_day>=1 and b_day<=21):\n",
    "   print(\"Ваш знак зодиака: Стрелец\")\n",
    "elif (b_day>=22 and b_day<=31 and b_month=='Декабрь') or( b_month=='Январь' and b_day>=1 and b_day<=20):\n",
    "   print(\"Ваш знак зодиака: Козерог\")\n",
    "elif (b_day>=21 and b_day<=31 and b_month=='Январь') or( b_month=='Февраль' and b_day>=1 and b_day<=18):\n",
    "   print(\"Ваш знак зодиака: Водолей\")\n",
    "elif (b_day>=19 and b_day<=29 and b_month=='Февраль') or( b_month==3 and b_day>=1 and b_day<=20):\n",
    "   print(\"Ваш знак зодиака: Рыбы\")"
   ]
  },
  {
   "cell_type": "markdown",
   "metadata": {},
   "source": [
    "Задание №4\n",
    "Вам нужно написать программу для подбора упаковок по размерам товара. Размеры хранятся в переменных (в сантиметрах):\n",
    "\n",
    "width = 10\n",
    "length = 205\n",
    "height = 5\n",
    "Используйте следующие правила:\n",
    "\n",
    "если каждое из трех измерений менее 15 сантиметров, то выведите на экран “Коробка №1”;\n",
    "если хотя бы одно из измерений больше 15 сантиметров, но менее 50 сантиметров, то выводите “Коробка №2”;\n",
    "если длина товара больше 2 метров, то выводите “Упаковка для лыж”;\n",
    "во всех остальных случаях выводите “Стандартная коробка №3”."
   ]
  },
  {
   "cell_type": "code",
   "execution_count": 2,
   "metadata": {},
   "outputs": [
    {
     "name": "stdout",
     "output_type": "stream",
     "text": [
      "Упаковка для лыж\n"
     ]
    }
   ],
   "source": [
    "width = 45\n",
    "length = 205\n",
    "height = 45\n",
    "if width<15 and length<15 and height<15:\n",
    "    print('Коробка №1')\n",
    "elif length>200:\n",
    "    print('Упаковка для лыж')  \n",
    "elif (width>15 and width<50) or (length>15 and length<50) or (height>15 and height<50):\n",
    "    print('Коробка №2')\n",
    "\n",
    "else:\n",
    "    print('Стандартная коробка №3')\n"
   ]
  },
  {
   "cell_type": "markdown",
   "metadata": {},
   "source": [
    "Задание №5\n",
    "Дана переменная, в которой хранится шестизначное число (номер проездного билета). Напишите программу, которая будет определять, является ли данный билет “счастливым”. Билет считается счастливым, если сумма первых трех цифр совпадает с суммой последних трех цифр номера.\n",
    "\n",
    "Примеры работы программы:\n",
    "number = 123321\n",
    "Результат:\n",
    "Счастливый билет"
   ]
  },
  {
   "cell_type": "code",
   "execution_count": 39,
   "metadata": {
    "scrolled": true
   },
   "outputs": [
    {
     "name": "stdout",
     "output_type": "stream",
     "text": [
      "Обычный билет\n"
     ]
    }
   ],
   "source": [
    "number = 123345\n",
    "t_number= str(number)\n",
    "l_num = int(t_number[0])+int(t_number[1])+int(t_number[2])\n",
    "r_num = int(t_number[3])+int(t_number[4])+int(t_number[5])\n",
    "if r_num==l_num:\n",
    "    print('Счастливый билет')\n",
    "else:\n",
    "    print('Обычный билет')"
   ]
  },
  {
   "cell_type": "markdown",
   "metadata": {},
   "source": [
    "Задание №6\n",
    "Напишите программу, которая сможет вычислять площади трех фигур (круг, треугольник и прямоугольник). Тип фигуры запрашиваем через пользовательский ввод, после чего делаем запрос характеристик фигуры:\n",
    "\n",
    "если пользователь выбрал круг, запрашиваем его радиус,\n",
    "если треугольник – длины трех его сторон;\n",
    "если прямоугольник – длины двух его сторон."
   ]
  },
  {
   "cell_type": "code",
   "execution_count": 53,
   "metadata": {},
   "outputs": [
    {
     "name": "stdout",
     "output_type": "stream",
     "text": [
      "Введите название фигуры(Круг, Треугольник, Прямоугольник): Треугольник\n",
      "Введите длину стороны A:2\n",
      "Введите длину стороны B:2\n",
      "Введите длину стороны C:3\n",
      "1.984313483298443\n"
     ]
    }
   ],
   "source": [
    "import math\n",
    "figure =input('Введите название фигуры(Круг, Треугольник, Прямоугольник): ')\n",
    "if figure=='Круг':\n",
    "    R=int(input('Введите радиус круга: '))\n",
    "    S=3.141592653589793*R**2\n",
    "elif figure=='Треугольник':\n",
    "    A=int(input('Введите длину стороны A:'))\n",
    "    B=int(input('Введите длину стороны B:'))\n",
    "    C=int(input('Введите длину стороны C:'))\n",
    "    p=(A+B+C)/2\n",
    "    S=math.sqrt(p*((p-A)*(p-B)*(p-C)))\n",
    "elif figure=='Прямоугольник':\n",
    "    A=int(input('Введите длину стороны A:'))\n",
    "    B=int(input('Введите длину стороны B:'))\n",
    "    S=A*B    \n",
    "else:\n",
    "    print('Нет такой фигуры')\n",
    "    S=0\n",
    "print(S)"
   ]
  },
  {
   "cell_type": "markdown",
   "metadata": {},
   "source": [
    "Все задания выполнены!"
   ]
  }
 ],
 "metadata": {
  "kernelspec": {
   "display_name": "Python 3",
   "language": "python",
   "name": "python3"
  },
  "language_info": {
   "codemirror_mode": {
    "name": "ipython",
    "version": 3
   },
   "file_extension": ".py",
   "mimetype": "text/x-python",
   "name": "python",
   "nbconvert_exporter": "python",
   "pygments_lexer": "ipython3",
   "version": "3.7.6"
  }
 },
 "nbformat": 4,
 "nbformat_minor": 4
}
