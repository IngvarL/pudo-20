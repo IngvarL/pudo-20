{
 "cells": [
  {
   "cell_type": "code",
   "execution_count": 1,
   "metadata": {},
   "outputs": [],
   "source": [
    "some_oxy_text = '''\n",
    "Весь мой рэп, если коротко, про то, что\n",
    "Уж который год который город под подошвой\n",
    "В гору, когда прет. Потом под гору, когда тошно\n",
    "Я не то, что Гулливер, но все же город под подошвой\n",
    "Город под подошвой, город под подошвой\n",
    "Светофоры, госпошлины, сборы и таможни\n",
    "Я не знаю, вброд или на дно эта дорожка\n",
    "Ты живешь под каблуком, у меня - город под подошвой\n",
    "'''\n",
    "\n",
    "spl_txt = some_oxy_text.replace().split()\n",
    "\n"
   ]
  },
  {
   "cell_type": "code",
   "execution_count": 2,
   "metadata": {},
   "outputs": [
    {
     "name": "stdout",
     "output_type": "stream",
     "text": [
      "['\\nВесь', 'мой', 'рэп,', 'если', 'коротко,', 'про', 'то,', 'что\\nУж', 'который', 'год', 'который', 'город', 'под', 'подошвой\\nВ', 'гору,', 'когда', 'прет.', 'Потом', 'под', 'гору,', 'когда', 'тошно\\nЯ', 'не', 'то,', 'что', 'Гулливер,', 'но', 'все', 'же', 'город', 'под', 'подошвой\\nГород', 'под', 'подошвой,', 'город', 'под', 'подошвой\\nСветофоры,', 'госпошлины,', 'сборы', 'и', 'таможни\\nЯ', 'не', 'знаю,', 'вброд', 'или', 'на', 'дно', 'эта', 'дорожка\\nТы', 'живешь', 'под', 'каблуком,', 'у', 'меня', '-', 'город', 'под', 'подошвой\\n']\n"
     ]
    }
   ],
   "source": [
    "print(spl_txt)"
   ]
  },
  {
   "cell_type": "code",
   "execution_count": null,
   "metadata": {},
   "outputs": [],
   "source": []
  }
 ],
 "metadata": {
  "kernelspec": {
   "display_name": "Python 3",
   "language": "python",
   "name": "python3"
  },
  "language_info": {
   "codemirror_mode": {
    "name": "ipython",
    "version": 3
   },
   "file_extension": ".py",
   "mimetype": "text/x-python",
   "name": "python",
   "nbconvert_exporter": "python",
   "pygments_lexer": "ipython3",
   "version": "3.7.6"
  }
 },
 "nbformat": 4,
 "nbformat_minor": 4
}
