{
 "cells": [
  {
   "cell_type": "markdown",
   "metadata": {},
   "source": [
    "## Домашнее задание"
   ]
  },
  {
   "cell_type": "markdown",
   "metadata": {},
   "source": [
    "### Задание 1\n",
    "Скачайте с сайта https://grouplens.org/datasets/movielens/ датасет любого размера. Определите какому фильму было выставлено больше всего оценок 5.0.\n",
    "Скачал базу:\n",
    "https://files.grouplens.org/datasets/movielens/ml-25m.zip"
   ]
  },
  {
   "cell_type": "code",
   "execution_count": 4,
   "metadata": {},
   "outputs": [],
   "source": [
    "import pandas as pd"
   ]
  },
  {
   "cell_type": "code",
   "execution_count": 2,
   "metadata": {},
   "outputs": [],
   "source": [
    "df = pd.read_csv(r'ml-25m\\ratings.csv')"
   ]
  },
  {
   "cell_type": "code",
   "execution_count": 15,
   "metadata": {},
   "outputs": [],
   "source": [
    "df_film = pd.read_csv(r'ml-25m\\movies.csv')"
   ]
  },
  {
   "cell_type": "code",
   "execution_count": 3,
   "metadata": {},
   "outputs": [
    {
     "data": {
      "text/html": [
       "<div>\n",
       "<style scoped>\n",
       "    .dataframe tbody tr th:only-of-type {\n",
       "        vertical-align: middle;\n",
       "    }\n",
       "\n",
       "    .dataframe tbody tr th {\n",
       "        vertical-align: top;\n",
       "    }\n",
       "\n",
       "    .dataframe thead th {\n",
       "        text-align: right;\n",
       "    }\n",
       "</style>\n",
       "<table border=\"1\" class=\"dataframe\">\n",
       "  <thead>\n",
       "    <tr style=\"text-align: right;\">\n",
       "      <th></th>\n",
       "      <th>userId</th>\n",
       "      <th>movieId</th>\n",
       "      <th>rating</th>\n",
       "      <th>timestamp</th>\n",
       "    </tr>\n",
       "  </thead>\n",
       "  <tbody>\n",
       "    <tr>\n",
       "      <th>0</th>\n",
       "      <td>1</td>\n",
       "      <td>296</td>\n",
       "      <td>5.0</td>\n",
       "      <td>1147880044</td>\n",
       "    </tr>\n",
       "    <tr>\n",
       "      <th>1</th>\n",
       "      <td>1</td>\n",
       "      <td>306</td>\n",
       "      <td>3.5</td>\n",
       "      <td>1147868817</td>\n",
       "    </tr>\n",
       "    <tr>\n",
       "      <th>2</th>\n",
       "      <td>1</td>\n",
       "      <td>307</td>\n",
       "      <td>5.0</td>\n",
       "      <td>1147868828</td>\n",
       "    </tr>\n",
       "    <tr>\n",
       "      <th>3</th>\n",
       "      <td>1</td>\n",
       "      <td>665</td>\n",
       "      <td>5.0</td>\n",
       "      <td>1147878820</td>\n",
       "    </tr>\n",
       "    <tr>\n",
       "      <th>4</th>\n",
       "      <td>1</td>\n",
       "      <td>899</td>\n",
       "      <td>3.5</td>\n",
       "      <td>1147868510</td>\n",
       "    </tr>\n",
       "  </tbody>\n",
       "</table>\n",
       "</div>"
      ],
      "text/plain": [
       "   userId  movieId  rating   timestamp\n",
       "0       1      296     5.0  1147880044\n",
       "1       1      306     3.5  1147868817\n",
       "2       1      307     5.0  1147868828\n",
       "3       1      665     5.0  1147878820\n",
       "4       1      899     3.5  1147868510"
      ]
     },
     "execution_count": 3,
     "metadata": {},
     "output_type": "execute_result"
    }
   ],
   "source": [
    "df.head()"
   ]
  },
  {
   "cell_type": "code",
   "execution_count": 46,
   "metadata": {},
   "outputs": [
    {
     "data": {
      "text/html": [
       "<div>\n",
       "<style scoped>\n",
       "    .dataframe tbody tr th:only-of-type {\n",
       "        vertical-align: middle;\n",
       "    }\n",
       "\n",
       "    .dataframe tbody tr th {\n",
       "        vertical-align: top;\n",
       "    }\n",
       "\n",
       "    .dataframe thead th {\n",
       "        text-align: right;\n",
       "    }\n",
       "</style>\n",
       "<table border=\"1\" class=\"dataframe\">\n",
       "  <thead>\n",
       "    <tr style=\"text-align: right;\">\n",
       "      <th></th>\n",
       "      <th>userId</th>\n",
       "      <th>movieId</th>\n",
       "      <th>rating</th>\n",
       "      <th>timestamp</th>\n",
       "      <th>title</th>\n",
       "      <th>genres</th>\n",
       "    </tr>\n",
       "  </thead>\n",
       "  <tbody>\n",
       "    <tr>\n",
       "      <th>0</th>\n",
       "      <td>1</td>\n",
       "      <td>296</td>\n",
       "      <td>5.0</td>\n",
       "      <td>1147880044</td>\n",
       "      <td>Pulp Fiction (1994)</td>\n",
       "      <td>Comedy|Crime|Drama|Thriller</td>\n",
       "    </tr>\n",
       "    <tr>\n",
       "      <th>1</th>\n",
       "      <td>1</td>\n",
       "      <td>306</td>\n",
       "      <td>3.5</td>\n",
       "      <td>1147868817</td>\n",
       "      <td>Three Colors: Red (Trois couleurs: Rouge) (1994)</td>\n",
       "      <td>Drama</td>\n",
       "    </tr>\n",
       "    <tr>\n",
       "      <th>2</th>\n",
       "      <td>1</td>\n",
       "      <td>307</td>\n",
       "      <td>5.0</td>\n",
       "      <td>1147868828</td>\n",
       "      <td>Three Colors: Blue (Trois couleurs: Bleu) (1993)</td>\n",
       "      <td>Drama</td>\n",
       "    </tr>\n",
       "    <tr>\n",
       "      <th>3</th>\n",
       "      <td>1</td>\n",
       "      <td>665</td>\n",
       "      <td>5.0</td>\n",
       "      <td>1147878820</td>\n",
       "      <td>Underground (1995)</td>\n",
       "      <td>Comedy|Drama|War</td>\n",
       "    </tr>\n",
       "    <tr>\n",
       "      <th>4</th>\n",
       "      <td>1</td>\n",
       "      <td>899</td>\n",
       "      <td>3.5</td>\n",
       "      <td>1147868510</td>\n",
       "      <td>Singin' in the Rain (1952)</td>\n",
       "      <td>Comedy|Musical|Romance</td>\n",
       "    </tr>\n",
       "  </tbody>\n",
       "</table>\n",
       "</div>"
      ],
      "text/plain": [
       "   userId  movieId  rating   timestamp  \\\n",
       "0       1      296     5.0  1147880044   \n",
       "1       1      306     3.5  1147868817   \n",
       "2       1      307     5.0  1147868828   \n",
       "3       1      665     5.0  1147878820   \n",
       "4       1      899     3.5  1147868510   \n",
       "\n",
       "                                              title  \\\n",
       "0                               Pulp Fiction (1994)   \n",
       "1  Three Colors: Red (Trois couleurs: Rouge) (1994)   \n",
       "2  Three Colors: Blue (Trois couleurs: Bleu) (1993)   \n",
       "3                                Underground (1995)   \n",
       "4                        Singin' in the Rain (1952)   \n",
       "\n",
       "                        genres  \n",
       "0  Comedy|Crime|Drama|Thriller  \n",
       "1                        Drama  \n",
       "2                        Drama  \n",
       "3             Comedy|Drama|War  \n",
       "4       Comedy|Musical|Romance  "
      ]
     },
     "execution_count": 46,
     "metadata": {},
     "output_type": "execute_result"
    }
   ],
   "source": [
    "film_rating = df.merge(df_film, on='movieId', how='left')\n",
    "film_rating.head()"
   ]
  },
  {
   "cell_type": "code",
   "execution_count": 4,
   "metadata": {},
   "outputs": [
    {
     "data": {
      "text/plain": [
       "movieId\n",
       "1    13506\n",
       "Name: movieId, dtype: int64"
      ]
     },
     "execution_count": 4,
     "metadata": {},
     "output_type": "execute_result"
    }
   ],
   "source": [
    "df[df['rating'] == 5].groupby(by=['movieId'])['movieId'].count().head(1)"
   ]
  },
  {
   "cell_type": "markdown",
   "metadata": {},
   "source": [
    "### Задание 2\n",
    "По данным файла power.csv посчитайте суммарное потребление стран Прибалтики (Латвия, Литва и Эстония) категорий 4, 12 и 21 за период с 2005 по 2010 года. Не учитывайте в расчетах отрицательные значения quantity."
   ]
  },
  {
   "cell_type": "code",
   "execution_count": 25,
   "metadata": {},
   "outputs": [],
   "source": [
    "df2 = pd.read_csv(r'power.csv')"
   ]
  },
  {
   "cell_type": "code",
   "execution_count": 6,
   "metadata": {},
   "outputs": [
    {
     "data": {
      "text/html": [
       "<div>\n",
       "<style scoped>\n",
       "    .dataframe tbody tr th:only-of-type {\n",
       "        vertical-align: middle;\n",
       "    }\n",
       "\n",
       "    .dataframe tbody tr th {\n",
       "        vertical-align: top;\n",
       "    }\n",
       "\n",
       "    .dataframe thead th {\n",
       "        text-align: right;\n",
       "    }\n",
       "</style>\n",
       "<table border=\"1\" class=\"dataframe\">\n",
       "  <thead>\n",
       "    <tr style=\"text-align: right;\">\n",
       "      <th></th>\n",
       "      <th>country</th>\n",
       "      <th>year</th>\n",
       "      <th>quantity</th>\n",
       "      <th>category</th>\n",
       "    </tr>\n",
       "  </thead>\n",
       "  <tbody>\n",
       "    <tr>\n",
       "      <th>0</th>\n",
       "      <td>Austria</td>\n",
       "      <td>1996</td>\n",
       "      <td>5.0</td>\n",
       "      <td>1</td>\n",
       "    </tr>\n",
       "    <tr>\n",
       "      <th>1</th>\n",
       "      <td>Austria</td>\n",
       "      <td>1995</td>\n",
       "      <td>17.0</td>\n",
       "      <td>1</td>\n",
       "    </tr>\n",
       "    <tr>\n",
       "      <th>2</th>\n",
       "      <td>Belgium</td>\n",
       "      <td>2014</td>\n",
       "      <td>0.0</td>\n",
       "      <td>1</td>\n",
       "    </tr>\n",
       "    <tr>\n",
       "      <th>3</th>\n",
       "      <td>Belgium</td>\n",
       "      <td>2013</td>\n",
       "      <td>0.0</td>\n",
       "      <td>1</td>\n",
       "    </tr>\n",
       "    <tr>\n",
       "      <th>4</th>\n",
       "      <td>Belgium</td>\n",
       "      <td>2012</td>\n",
       "      <td>35.0</td>\n",
       "      <td>1</td>\n",
       "    </tr>\n",
       "  </tbody>\n",
       "</table>\n",
       "</div>"
      ],
      "text/plain": [
       "   country  year  quantity  category\n",
       "0  Austria  1996       5.0         1\n",
       "1  Austria  1995      17.0         1\n",
       "2  Belgium  2014       0.0         1\n",
       "3  Belgium  2013       0.0         1\n",
       "4  Belgium  2012      35.0         1"
      ]
     },
     "execution_count": 6,
     "metadata": {},
     "output_type": "execute_result"
    }
   ],
   "source": [
    "df2.head()"
   ]
  },
  {
   "cell_type": "code",
   "execution_count": 40,
   "metadata": {},
   "outputs": [
    {
     "data": {
      "text/plain": [
       "region\n",
       "Baltic    240481.0\n",
       "Name: quantity, dtype: float64"
      ]
     },
     "execution_count": 40,
     "metadata": {},
     "output_type": "execute_result"
    }
   ],
   "source": [
    "#Импортируем нампай для работы с условиями массива.\n",
    "import numpy as np \n",
    "#Группируем по региону страны\n",
    "df2['region'] = np.where(((df2['country'] == 'Lithuania') | (df2['country'] == 'Latvia') | (df2['country'] == 'Estonia')),'Baltic','Other')\n",
    "#Считаем по условиям сумму...\n",
    "df2[(df2['region'] == 'Baltic') & ((df2['category'] == 4) | (df2['category'] == 12) | (df2['category'] == 21)) & (df2['year']>=2005) & (df2['year']<=2010)].groupby(by=['region'])['quantity'].sum()\n"
   ]
  },
  {
   "cell_type": "markdown",
   "metadata": {},
   "source": [
    "### Задание 3\n",
    "Выберите страницу любого сайта с табличными данными. Импортируйте таблицы в pandas dataframe.\n",
    "Примеры страниц (необязательно брать именно эти):\n",
    "https://fortrader.org/quotes\n",
    "https://www.finanz.ru/valyuty/v-realnom-vremeni"
   ]
  },
  {
   "cell_type": "code",
   "execution_count": 60,
   "metadata": {},
   "outputs": [],
   "source": [
    "site = pd.read_html('https://www.sberometer.ru/cbr/',attrs = {'class': 'tableData'}, encoding='utf-8')"
   ]
  },
  {
   "cell_type": "code",
   "execution_count": 62,
   "metadata": {},
   "outputs": [
    {
     "name": "stdout",
     "output_type": "stream",
     "text": [
      "                                         Дата  Доллар СШАUSD  ЕВРОEUR  \\\n",
      "0                                  18.05.2021        73.8537  89.6584   \n",
      "1                                  15.05.2021        73.9968  89.6249   \n",
      "2                                  14.05.2021        74.3566  89.9343   \n",
      "3                                  13.05.2021        74.0400  89.8475   \n",
      "4                                  12.05.2021        74.1567  90.0040   \n",
      "..                                        ...            ...      ...   \n",
      "69                                 04.02.2021        76.0801  91.5624   \n",
      "70                                 03.02.2021        75.9051  91.6250   \n",
      "71                                 02.02.2021        75.5053  91.5426   \n",
      "72                                 30.01.2021        76.2527  92.2963   \n",
      "73  Средневзвешенный курс за выбранный период        74.7640  89.8034   \n",
      "\n",
      "    Фунт стерлингов GBGBP  \n",
      "0                104.0672  \n",
      "1                104.0543  \n",
      "2                104.4487  \n",
      "3                104.6703  \n",
      "4                104.6277  \n",
      "..                    ...  \n",
      "69               104.0243  \n",
      "70               103.9444  \n",
      "71               103.6688  \n",
      "72               104.2832  \n",
      "73               103.8826  \n",
      "\n",
      "[74 rows x 4 columns]\n"
     ]
    }
   ],
   "source": [
    "print(site[0])"
   ]
  },
  {
   "cell_type": "code",
   "execution_count": 68,
   "metadata": {},
   "outputs": [],
   "source": [
    "adr1 = 'https://infoselection.ru/infokatalog/internet-i-programmy/internet-osnovnoe/item/90-50-samykh-poseshchaemykh-sajtov-runeta'\n",
    "table_site = pd.read_html(adr1, encoding='utf-8')"
   ]
  },
  {
   "cell_type": "code",
   "execution_count": 69,
   "metadata": {},
   "outputs": [
    {
     "data": {
      "text/plain": [
       "[       0             1              2                    3             4\n",
       " 0      N        Ресурс          Адрес             Тематика  Доля трафика\n",
       " 1      1        Яндекс      yandex.ru      Поиск и сервисы        12.44%\n",
       " 2      2    Google.com     google.com      Поиск и сервисы         7.93%\n",
       " 3      3       Youtube    youtube.com                Видео         6.95%\n",
       " 4      4     ВКонтакте         vk.com      Социальная сеть         5.78%\n",
       " ..   ...           ...            ...                  ...           ...\n",
       " 96    96     Primpress   primpress.ru                  СМИ         0.09%\n",
       " 97    97    Irecommend  irecommend.ru       Сервис отзывов         0.09%\n",
       " 98    98       Tutu.ru        tutu.ru  Сервис бронирования         0.09%\n",
       " 99    99  Яндекс Поиск          ya.ru                Поиск         0.09%\n",
       " 100  100      Тинькофф     tinkoff.ru              Финансы         0.08%\n",
       " \n",
       " [101 rows x 5 columns],\n",
       "        0                                1                 2\n",
       " 0      №                   Название сайта  Посетители, тыс.\n",
       " 1      1                     ВКонтакте.ру            46 165\n",
       " 2      2                 Одноклассники.ru            28 634\n",
       " 3      3                          Mail.Ru            18 215\n",
       " 4      4          Главная страница Яндекс            17 726\n",
       " ..   ...                              ...               ...\n",
       " 96    96                        НьюИнформ               439\n",
       " 97    97                             ТАСС               437\n",
       " 98    98                     COSMOPOLITAN               428\n",
       " 99    99                        Spaces.ru               424\n",
       " 100  100  Телевизионная Компания \"Звезда\"               424\n",
       " \n",
       " [101 rows x 3 columns],\n",
       "      0                1                                            2  \\\n",
       " 0    N             Сайт                                     Описание   \n",
       " 1    1      Youtube.com                                 Видеохостинг   \n",
       " 2    2           Vk.com                              Социальная сеть   \n",
       " 3    3       Google.com                  Поисковая система и сервисы   \n",
       " 4    4        Yandex.ru                  Поисковая система и сервисы   \n",
       " 5    5          Mail.ru                      Почта, сервисы, порталы   \n",
       " 6    6         Avito.ru                              Сайт объявлений   \n",
       " 7    7            Ok.ru                              Социальная сеть   \n",
       " 8    8        Google.ru      Русскоязычная версия поискового сервиса   \n",
       " 9    9    Wikipedia.org                      Бесплатная энциклопедия   \n",
       " 10  10   Aliexpress.com                     Торговая онлайн площадка   \n",
       " 11  11      Sberbank.ru                     Онлайн проекты Сбербанка   \n",
       " 12  12      Gismeteo.ru                               Прогноз погоды   \n",
       " 13  13     Kinopoisk.ru                      Портал о кино и сервисы   \n",
       " 14  14       Rambler.ru             Информационный портал и рейтинги   \n",
       " 15  15    Instagram.com                              Социальная сеть   \n",
       " 16  16     Gosuslugi.ru                              Портал госуслуг   \n",
       " 17  17   Wildberries.ru                             Интернет-магазин   \n",
       " 18  18          Drom.ru           Информационный сайт об автомобилях   \n",
       " 19  19          Ozon.ru                             Интернет-магазин   \n",
       " 20  20      Userapi.com              Сайт хранилища данных ВКонтакте   \n",
       " 21  21           Ivi.ru                             Онлайн кинотеатр   \n",
       " 22  22            Hh.ru                        Сайт по поиску работы   \n",
       " 23  23        Twitch.tv                               Видеоплатформа   \n",
       " 24  24           Ria.ru                             Новостной портал   \n",
       " 25  25  Livejournal.com                               Блог-платформа   \n",
       " 26  26        Pikabu.ru                       Развлекательный портал   \n",
       " 27  27      Booking.com                          Бронирование отелей   \n",
       " 28  28     Facebook.com                              Социальная сеть   \n",
       " 29  29     Lordsfilm.tv                                Фильмы онлайн   \n",
       " 30  30        Gazeta.ru                     Ежедневная онлайн-газета   \n",
       " 31  31         Lenta.ru                             Новостной портал   \n",
       " 32  32        Drive2.ru           Социальная сеть для автомобилистов   \n",
       " 33  33       Fandom.com                    Развлекательная платформа   \n",
       " 34  34          2gis.ru                   Карты городов и справочник   \n",
       " 35  35      Vseigru.net                       Портал с онлайн играми   \n",
       " 36  36          Sbrf.ru                              Сбербанк онлайн   \n",
       " 37  37         Youla.ru                             Доска объявлений   \n",
       " 38  38            Kp.ru                         Интернет-сайт газеты   \n",
       " 39  39           Rbc.ru               Сайт информационного агентства   \n",
       " 40  40      Citilink.ru                         Интернет гипермаркет   \n",
       " 41  41    Rutracker.org                                Обмен файлами   \n",
       " 42  42            Rt.ru              Сайт оператора связи Ростелеком   \n",
       " 43  43        Mvideo.ru                             Интернет магазин   \n",
       " 44  44       Roblox.com                  Игровая платформа для детей   \n",
       " 45  45           Rzd.ru                                     Сайт РЖД   \n",
       " 46  46         Vesti.ru                              Телеканал Вести   \n",
       " 47  47      Otzovik.com                               Сервис отзывов   \n",
       " 48  48   Championat.com                           Спортивные новости   \n",
       " 49  49           Rp5.ru  Прогнозы погоды \"Мет. Офиса\" Великобритании   \n",
       " 50  50      Ficbook.net  Сборник авторских сказок и басен (фанфиков)   \n",
       " \n",
       "                             3  \\\n",
       " 0   Ежедневное время на сайте   \n",
       " 1                        8:37   \n",
       " 2                        9:36   \n",
       " 3                        8:13   \n",
       " 4                        6:49   \n",
       " 5                        4:53   \n",
       " 6                       13:42   \n",
       " 7                        4:31   \n",
       " 8                        3:48   \n",
       " 9                        4:10   \n",
       " 10                      11:34   \n",
       " 11                       7:04   \n",
       " 12                       2:31   \n",
       " 13                       2:59   \n",
       " 14                       4:52   \n",
       " 15                       5:46   \n",
       " 16                       4:30   \n",
       " 17                      15:45   \n",
       " 18                      11:47   \n",
       " 19                       6:04   \n",
       " 20                       4:07   \n",
       " 21                       2:35   \n",
       " 22                       9:13   \n",
       " 23                       5:55   \n",
       " 24                       3:02   \n",
       " 25                       4:56   \n",
       " 26                       5:21   \n",
       " 27                       8:47   \n",
       " 28                       9:57   \n",
       " 29                       1:32   \n",
       " 30                       2:51   \n",
       " 31                       3:35   \n",
       " 32                       6:14   \n",
       " 33                       5:38   \n",
       " 34                       2:02   \n",
       " 35                      16:06   \n",
       " 36                       0:59   \n",
       " 37                       7:16   \n",
       " 38                       2:43   \n",
       " 39                       2:55   \n",
       " 40                       5:51   \n",
       " 41                       6:03   \n",
       " 42                       2:33   \n",
       " 43                       5:30   \n",
       " 44                      16:27   \n",
       " 45                       9:01   \n",
       " 46                       2:48   \n",
       " 47                       3:36   \n",
       " 48                       5:28   \n",
       " 49                       2:53   \n",
       " 50                      18:56   \n",
       " \n",
       "                                                   4                     5  \n",
       " 0   Кол-во просмотров страниц на посетителя в сутки  % поискового трафика  \n",
       " 1                                              5.11                10.90%  \n",
       " 2                                              4.56                 3.60%  \n",
       " 3                                             11.30                 0.50%  \n",
       " 4                                              3.17                 0.60%  \n",
       " 5                                              3.19                 1.80%  \n",
       " 6                                             10.15                 5.10%  \n",
       " 7                                              2.22                 2.30%  \n",
       " 8                                              5.51                 2.00%  \n",
       " 9                                              3.11                53.70%  \n",
       " 10                                             9.38                 7.10%  \n",
       " 11                                             5.47                10.10%  \n",
       " 12                                             2.78                 7.10%  \n",
       " 13                                             3.15                19.30%  \n",
       " 14                                             3.23                 4.90%  \n",
       " 15                                             4.27                 5.40%  \n",
       " 16                                             5.45                 4.40%  \n",
       " 17                                            11.91                 5.10%  \n",
       " 18                                            11.20                 9.70%  \n",
       " 19                                             4.49                10.40%  \n",
       " 20                                             3.24                 2.40%  \n",
       " 21                                             2.47                25.00%  \n",
       " 22                                             6.76                 6.00%  \n",
       " 23                                             2.94                 5.20%  \n",
       " 24                                             1.79                 3.60%  \n",
       " 25                                             2.96                10.80%  \n",
       " 26                                             2.71                13.50%  \n",
       " 27                                             4.83                16.90%  \n",
       " 28                                             4.49                 7.60%  \n",
       " 29                                             1.80                12.00%  \n",
       " 30                                             1.63                 3.00%  \n",
       " 31                                             2.77                 3.80%  \n",
       " 32                                             4.52                10.10%  \n",
       " 33                                             4.40                40.10%  \n",
       " 34                                             1.56                16.40%  \n",
       " 35                                            10.03                11.30%  \n",
       " 36                                             2.44                 0.60%  \n",
       " 37                                             5.45                 6.00%  \n",
       " 38                                             1.44                13.00%  \n",
       " 39                                             1.74                 2.70%  \n",
       " 40                                             4.52                11.00%  \n",
       " 41                                             2.70                 5.50%  \n",
       " 42                                             2.16                 7.00%  \n",
       " 43                                             4.36                12.40%  \n",
       " 44                                             9.15                 5.60%  \n",
       " 45                                             4.35                10.50%  \n",
       " 46                                             1.43                 6.20%  \n",
       " 47                                             2.49                15.50%  \n",
       " 48                                             3.54                 5.50%  \n",
       " 49                                             1.22                 1.70%  \n",
       " 50                                            10.90                 4.50%  ,\n",
       "     0   1\n",
       " 0 NaN NaN]"
      ]
     },
     "execution_count": 69,
     "metadata": {},
     "output_type": "execute_result"
    }
   ],
   "source": [
    "table_site"
   ]
  },
  {
   "cell_type": "code",
   "execution_count": null,
   "metadata": {},
   "outputs": [],
   "source": []
  }
 ],
 "metadata": {
  "kernelspec": {
   "display_name": "Python 3",
   "language": "python",
   "name": "python3"
  },
  "language_info": {
   "codemirror_mode": {
    "name": "ipython",
    "version": 3
   },
   "file_extension": ".py",
   "mimetype": "text/x-python",
   "name": "python",
   "nbconvert_exporter": "python",
   "pygments_lexer": "ipython3",
   "version": "3.7.6"
  }
 },
 "nbformat": 4,
 "nbformat_minor": 4
}
